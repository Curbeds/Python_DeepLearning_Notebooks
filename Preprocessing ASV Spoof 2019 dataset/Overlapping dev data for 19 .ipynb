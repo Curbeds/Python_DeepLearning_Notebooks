{
 "cells": [
  {
   "cell_type": "code",
   "execution_count": 1,
   "metadata": {},
   "outputs": [],
   "source": [
    "import numpy as np\n",
    "import os\n",
    "from scipy.io import loadmat,savemat\n",
    "import hdf5storage\n",
    "\n",
    "frame_size = 100\n",
    "frame_shift = 50\n",
    "genuine_features_path = 'E:\\\\Aditya\\\\CQCC\\\\Dev'\n",
    "filename = 'genuine_1990.mat'\n",
    "spoof_features_path = 'E:\\\\Aditya\\\\CQCC\\\\Dev\\\\spoof_dev_files'\n",
    "no_of_files = len(list(os.listdir(spoof_features_path)))\n",
    "database_path = 'G:\\\\Aditya\\\\CQCC\\\\dev_overlapData_90D'\n"
   ]
  },
  {
   "cell_type": "code",
   "execution_count": 2,
   "metadata": {},
   "outputs": [
    {
     