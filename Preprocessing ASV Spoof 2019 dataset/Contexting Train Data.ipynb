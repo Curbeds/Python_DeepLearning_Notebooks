
{
 "cells": [
  {
   "cell_type": "code",
   "execution_count": 1,
   "metadata": {},
   "outputs": [],
   "source": [
    "from scipy.io import loadmat,savemat\n",
    "import os\n",
    "import numpy as np\n",
    "import hdf5storage\n",
    "context = 5\n",
    "\n",
    "featuresPath = \"C:\\\\Users\\\\HIMANSHU\\\\Desktop\\\\Aditya\\\\ASVspoof2017_CFCC_IF_CMVN\\\\117D\"\n",
    "genuineFilename = \"genuine_17117.mat\"\n",
    "spoofFilename = \"spoof_17117.mat\"\n",
    "database_path = \"E:\\\\Aditya\\\\ASVspoof2017_CFCC_IF_CMVN\\\\contextData_117D\"\n",
    "filePath = \"E:\\\\Aditya\\\\ASVspoof2017_CFCC_IF_CMVN\"\n",
    "\n",
    "contextValues = [i for i in range(-context,context+1)]"
   ]
  },
  {
   "cell_type": "code",
   "execution_count": 2,
   "metadata": {},
   "outputs": [
    {
     "name": "stdout",
     "output_type": "stream",
     "text": [
      "['__header__', '__version__', '__globals__', 'genuineFeatureCell']\n",
      "(1507, 1)\n"
     ]
    }
   ],
   "source": [
    "genuine = hdf5storage.loadmat(os.path.join(featuresPath,genuineFilename))\n",
    "#print(genuine)\n",
    "\n",
    "keys = list(genuine.keys()) \n",
    "print(keys)\n",
    "position = len(keys) -1\n",
    "genuine = genuine[keys[position]]\n",
    "print(genuine.shape)"
   ]
  },
  {
   "cell_type": "code",
   "execution_count": 3,
   "metadata": {},
   "outputs": [
    {
     "name": "stdout",
     "output_type": "stream",
     "text": [
      "(117, 191)\n"
     ]
    }
   ],
   "source": [
    "print(genuine[0].item().shape)"
   ]
  },
  {
   "cell_type": "code",
   "execution_count": 4,
   "metadata": {},
   "outputs": [
    {
     "name": "stdout",
     "output_type": "stream",
     "text": [
      "['spoofFeatureCell']\n",
      "(1507, 1)\n",
      "(117, 181)\n"
     ]
    }
   ],
   "source": [
    "spoof = hdf5storage.loadmat(os.path.join(featuresPath,spoofFilename))\n",
    "#print(spoof)\n",
    "\n",
    "keys = list(spoof.keys())\n",
    "print(keys)\n",
    "position = len(keys) - 1\n",
    "spoof = spoof[keys[position]]\n",
    "print(spoof.shape)\n",
    "print(spoof[0].item().shape)"
   ]
  },
  {
   "cell_type": "code",
   "execution_count": 5,
   "metadata": {},
   "outputs": [
    {
     "name": "stdout",
     "output_type": "stream",
     "text": [
      "316527\n"
     ]
    }
   ],
   "source": [
    "#genuine[0].item().shape[1]\n",
    "#featureSize = genuine[0].item().shape[0] * (2 * context + 1)\n",
    "total = 0\n",
    "index = 0\n",
    "\n",
    "temporary = os.path.join(filePath,\"temp_117D\")\n",
    "\n",
    "if not os.path.exists(temporary):\n",
    "    os.makedirs(temporary)\n",
    "\n",
    "for i in range(genuine.shape[0]):\n",
    "    featureMatrix = genuine[i].item().T\n",
    "    frames = featureMatrix.shape[0]\n",
    "    \n",
    "    contextFeature = []\n",
    "    \n",
    "    for j in range(context,frames-context):\n",
    "        feature = np.array([featureMatrix[j+k] for k in contextValues])\n",
    "        feature = feature.reshape(-1)\n",
    "        contextFeature.append(feature)\n",
    "    contextFeature = np.array(contextFeature)\n",
    "    total = total+contextFeature.shape[0]\n",
    "    label = np.array([1,0]).reshape([1,2])\n",
    "    np.save(os.path.join(temporary,\"features\"+str(index+1)), contextFeature)\n",
    "    np.save(os.path.join(temporary,\"labels\"+str(index+1)),np.tile(label,[contextFeature.shape[0],1]))\n",
    "    index = index+1\n",
    "print(total)  "
   ]
  },
  {
   "cell_type": "code",
   "execution_count": 6,
   "metadata": {},
   "outputs": [
    {
     "name": "stdout",
     "output_type": "stream",
     "text": [
      "602292\n"
     ]
    }
   ],
   "source": [
    "for i in range(spoof.shape[0]):\n",
    "    featureMatrix = spoof[i].item().T\n",
    "    frames = featureMatrix.shape[0]\n",
    "    \n",
    "    context_feature = []\n",
    "    \n",
    "    for j in range(context,frames-context):\n",
    "        feature = np.array([featureMatrix[j+k] for k in contextValues])\n",
    "        feature = feature.reshape([-1])\n",
    "        context_feature.append(feature)\n",
    "    context_feature = np.array(context_feature)\n",
    "    total = total+context_feature.shape[0]\n",
    "    label = np.array([0,1]).reshape([1,2])\n",
    "    np.save(os.path.join(temporary,\"features\"+str(index+1)),context_feature)\n",
    "    np.save(os.path.join(temporary,\"labels\"+str(index+1)),np.tile(label,[context_feature.shape[0],1]))\n",
    "    index = index+1\n",
    "print(total)\n",
    "    "
   ]
  },
  {
   "cell_type": "code",
   "execution_count": 6,
   "metadata": {},
   "outputs": [
    {
     "name": "stdout",
     "output_type": "stream",
     "text": [
      "3014\n"
     ]
    }
   ],
   "source": [
    "total = genuine.shape[0]+spoof.shape[0]\n",
    "print(total)\n",
    "import random as rand\n",
    "randSet = rand.sample(range(1,total+1),total)\n",
    "if not os.path.exists(database_path):\n",
    "    os.makedirs(database_path)"
   ]
  },
  {
   "cell_type": "code",
   "execution_count": 8,
   "metadata": {},
   "outputs": [
    {
     "name": "stdout",
     "output_type": "stream",
     "text": [
      "1\n",
      "2\n",
      "3\n",
      "4\n",
      "5\n",
      "6\n",
      "7\n",
      "8\n",
      "9\n",
      "10\n",
      "11\n",
      "12\n",
      "13\n",
      "14\n",
      "15\n",
      "16\n",
      "17\n",
      "18\n",
      "19\n",
      "20\n",
      "21\n",
      "22\n",
      "23\n",
      "24\n",
      "25\n",
      "26\n",
      "27\n",
      "28\n",
      "29\n",
      "30\n",
      "31\n",
      "32\n",
      "33\n",
      "34\n",
      "35\n",
      "36\n",
      "37\n",
      "38\n",
      "39\n",
      "40\n",
      "41\n",
      "42\n",
      "43\n",
      "44\n",
      "45\n",
      "46\n",
      "47\n",
      "48\n",
      "49\n",
      "50\n",
      "51\n",
      "52\n",
      "53\n",
      "54\n",
      "55\n",
      "56\n",
      "57\n",
      "58\n",
      "59\n",
      "60\n",
      "61\n",
      "62\n",
      "63\n",
      "64\n",
      "65\n",
      "66\n",
      "67\n",
      "68\n",
      "69\n",
      "70\n",
      "71\n",
      "72\n",
      "73\n",
      "74\n",
      "75\n",
      "76\n",
      "77\n",
      "78\n",
      "79\n",
      "80\n",
      "81\n",
      "82\n",
      "83\n",
      "84\n",
      "85\n",
      "86\n",
      "87\n",
      "88\n",
      "89\n",
      "90\n",
      "91\n",
      "92\n",
      "93\n",
      "94\n",
      "95\n",
      "96\n",
      "97\n",
      "98\n",
      "99\n",
      "100\n",
      "101\n",
      "102\n",
      "103\n",
      "104\n",
      "105\n",
      "106\n",
      "107\n",
      "108\n",
      "109\n",
      "110\n",
      "111\n",
      "112\n",
      "113\n",
      "114\n",
      "115\n",
      "116\n",
      "117\n",
      "118\n",
      "119\n",
      "120\n",
      "121\n",
      "122\n",
      "123\n",
      "124\n",
      "125\n",
      "126\n",
      "127\n",
      "128\n",
      "129\n",
      "130\n",
      "131\n",
      "132\n",
      "133\n",
      "134\n",
      "135\n",
      "136\n",
      "137\n",
      "138\n",
      "139\n",
      "140\n",
      "141\n",
      "142\n",
      "143\n",
      "144\n",
      "145\n",
      "146\n",