
{
 "cells": [
  {
   "cell_type": "code",
   "execution_count": 1,
   "metadata": {},
   "outputs": [],
   "source": [
    "from scipy.io import loadmat,savemat\n",
    "import os\n",
    "import numpy as np\n",
    "import hdf5storage\n",
    "context = 5\n",
    "\n",
    "featuresPath = \"C:\\\\Users\\\\HIMANSHU\\\\Desktop\\\\Aditya\\\\ASVspoof2017_CFCC_IF_CMVN\\\\117D\"\n",
    "genuineFilename = \"genuine_17117.mat\"\n",
    "spoofFilename = \"spoof_17117.mat\"\n",
    "database_path = \"E:\\\\Aditya\\\\ASVspoof2017_CFCC_IF_CMVN\\\\contextData_117D\"\n",
    "filePath = \"E:\\\\Aditya\\\\ASVspoof2017_CFCC_IF_CMVN\"\n",
    "\n",
    "contextValues = [i for i in range(-context,context+1)]"
   ]
  },
  {
   "cell_type": "code",
   "execution_count": 2,
   "metadata": {},
   "outputs": [
    {
     "name": "stdout",
     "output_type": "stream",
     "text": [
      "['__header__', '__version__', '__globals__', 'genuineFeatureCell']\n",
      "(1507, 1)\n"
     ]
    }