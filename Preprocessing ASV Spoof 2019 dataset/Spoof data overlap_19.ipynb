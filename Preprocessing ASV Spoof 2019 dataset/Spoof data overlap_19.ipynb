{
 "cells": [
  {
   "cell_type": "code",
   "execution_count": 1,
   "metadata": {},
   "outputs": [],
   "source": [
    "import os\n",
    "from scipy.io import loadmat,savemat\n",
    "import numpy as np\n",
    "\n",
    "spoof_features_path = 'E:\\\\Aditya\\\\CQCC\\\\Train\\\\spoof_train_files'\n",
    "no_of_files = len(list(os.listdir(spoof_features_path)))\n",
    "database_path = 'G:\\Aditya\\CQCC\\\\overlapData_78D'\n",
    "#file_path = 'I:\\\\Aditya\\\\ASVspoof2019_CMPOC_CMVN_90dim\\\\90D'\n",
    "temporary = 'G:\\Aditya\\CQCC\\\\temp_overlap_90D'\n",
    "\n",
    "frame_size = 100\n",
    "frame_shift = 50\n",
    "\n",
    "index = 5400\n",
    "# total = 24630"
   ]
  },
  {
   "cell_type": "code",