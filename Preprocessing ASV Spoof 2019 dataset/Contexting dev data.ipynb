
{
 "cells": [
  {
   "cell_type": "code",
   "execution_count": 1,
   "metadata": {},
   "outputs": [],
   "source": [
    "import numpy as np\n",
    "import os\n",
    "from scipy.io import loadmat,savemat\n",
    "import hdf5storage\n",
    "context = 5\n",
    "\n",
    "features_path = 'C:\\\\Users\\\\HIMANSHU\\\\Desktop\\\\Aditya\\\\ASVspoof2017_CFCC_IF_CMVN\\\\117D'\n",
    "genuineFilename = 'eval_genuine_17117.mat'\n",
    "#spoofFilename = 'dev_spoof_17117.mat'\n",
    "databasePath = 'C:\\\\Users\\\\HIMANSHU\\\\Desktop\\\\Aditya\\\\ASVspoof2017_CFCC_IF_CMVN\\\\evalcontextData_117D'\n",
    "#filePath = 'C:\\\\Users\\\\HIMANSHU\\\\Desktop\\\\Aditya\\\\ASVspoof2017_CMPOC_CMVN'\n",
    "\n",
    "contextValues = [i for i in range(-context,context+1)]"
   ]
  },
  {
   "cell_type": "code",
   "execution_count": 2,
   "metadata": {},
   "outputs": [
    {
     "name": "stdout",
     "output_type": "stream",
     "text": [
      "(1298, 1)\n",
      "(117, 164)\n"
     ]
    }
   ],
   "source": [
    "genuine = hdf5storage.loadmat(os.path.join(features_path,genuineFilename))\n",
    "\n",
    "keys = list(genuine.keys())\n",
    "position = len(keys) - 1\n",
    "\n",
    "genuine = genuine[keys[position]]\n",
    "print(genuine.shape)\n",
    "print(genuine[0].item().shape)"
   ]