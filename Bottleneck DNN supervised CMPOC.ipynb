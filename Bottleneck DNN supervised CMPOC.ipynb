
{
 "cells": [
  {
   "cell_type": "code",
   "execution_count": 1,
   "metadata": {},
   "outputs": [],
   "source": [
    "import tensorflow as tf\n",
    "import numpy as np\n",
    "import os"
   ]
  },
  {
   "cell_type": "code",
   "execution_count": 2,
   "metadata": {},
   "outputs": [],
   "source": [
    "feat_size = 60\n",
    "context = 5\n",
    "\n",
    "input_x = tf.placeholder(dtype = tf.float32, shape = [None, feat_size*(2*context +1)])\n",
    "output_y = tf.placeholder(dtype = tf.float32, shape = [None, 2])"
   ]
  },
  {
   "cell_type": "code",
   "execution_count": 3,
   "metadata": {},
   "outputs": [
    {
     "name": "stdout",
     "output_type": "stream",
     "text": [
      "Tensor(\"Relu:0\", shape=(?, 512), dtype=float32)\n"
     ]
    }
   ],
   "source": [
    "#hidden layer 1\n",
    "\n",
    "hidden_1 = 512\n",
    "hidden_1_weights = tf.get_variable( \"hidden_1_weights\",\n",
    "                                  shape = [ feat_size*(2*context +1), hidden_1],\n",
    "                                  dtype = tf.float32,\n",
    "                                  initializer = tf.contrib.layers.xavier_initializer())\n",
    "\n",
    "hidden_1_bias = tf.get_variable( \"hidden_1_bias\",\n",
    "                                    shape = [hidden_1],\n",
    "                                    dtype = tf.float32,\n",
    "                                   initializer = tf.contrib.layers.xavier_initializer())\n",
    "\n",
    "hidden_1_dnn = tf.matmul( input_x, hidden_1_weights) + hidden_1_bias\n",
    "hidden_1_out = tf.nn.relu(hidden_1_dnn)\n",
    "print(hidden_1_out)"
   ]
  },
  {
   "cell_type": "code",
   "execution_count": 4,
   "metadata": {},
   "outputs": [
    {
     "name": "stdout",
     "output_type": "stream",
     "text": [
      "Tensor(\"Relu_1:0\", shape=(?, 512), dtype=float32)\n"
     ]
    }
   ],
   "source": [
    "#hidden layer 2\n",
    "\n",
    "hidden_2 = 512\n",
    "hidden_2_weights = tf.get_variable( \"hidden_2_weights\",\n",
    "                                  shape = [ hidden_1, hidden_2],\n",
    "                                  dtype = tf.float32,\n",
    "                                  initializer = tf.contrib.layers.xavier_initializer())\n",
    "\n",
    "hidden_2_bias = tf.get_variable( \"hidden_2_bias\",\n",
    "                                    shape = [hidden_2],\n",
    "                                    dtype = tf.float32,\n",
    "                                   initializer = tf.contrib.layers.xavier_initializer())\n",
    "\n",
    "hidden_2_dnn = tf.matmul( hidden_1_out, hidden_2_weights) + hidden_2_bias\n",
    "hidden_2_out = tf.nn.relu(hidden_2_dnn)\n",
    "print(hidden_2_out)"
   ]
  },
  {
   "cell_type": "code",
   "execution_count": 5,
   "metadata": {},
   "outputs": [
    {
     "name": "stdout",
     "output_type": "stream",
     "text": [
      "Tensor(\"Relu_2:0\", shape=(?, 512), dtype=float32)\n"
     ]
    }
   ],
   "source": [
    "#hidden layer 2\n",
    "\n",
    "hidden_ = 512\n",
    "hidden_weights = tf.get_variable( \"hidden_weights\",\n",
    "                                  shape = [ hidden_2, hidden_],\n",
    "                                  dtype = tf.float32,\n",
    "                                  initializer = tf.contrib.layers.xavier_initializer())\n",
    "\n",
    "hidden_bias = tf.get_variable( \"hidden_bias\",\n",
    "                                    shape = [hidden_],\n",
    "                                    dtype = tf.float32,\n",
    "                                   initializer = tf.contrib.layers.xavier_initializer())\n",
    "\n",
    "hidden_dnn = tf.matmul( hidden_2_out, hidden_weights) + hidden_bias\n",
    "hidden_out = tf.nn.relu(hidden_dnn)\n",
    "print(hidden_out)"
   ]
  },
  {
   "cell_type": "code",
   "execution_count": 6,
   "metadata": {},
   "outputs": [
    {
     "name": "stdout",
     "output_type": "stream",
     "text": [
      "Tensor(\"Relu_3:0\", shape=(?, 40), dtype=float32)\n"
     ]
    }
   ],
   "source": [
    "#bottleneck layer \n",
    "\n",
    "bottleneck_dim = 40\n",
    "bottleneck_weights = tf.get_variable( \"bottleneck_weights\",\n",
    "                                  shape = [ hidden_, bottleneck_dim],\n",
    "                                  dtype = tf.float32,\n",
    "                                  initializer = tf.contrib.layers.xavier_initializer())\n",
    "\n",
    "bottleneck_bias = tf.get_variable( \"bottleneck_bias\",\n",
    "                                    shape = [bottleneck_dim],\n",
    "                                    dtype = tf.float32,\n",
    "                                   initializer = tf.contrib.layers.xavier_initializer())\n",
    "\n",
    "bottleneck_dnn = tf.matmul( hidden_out, bottleneck_weights) + bottleneck_bias\n",
    "bottleneck_out = tf.nn.relu(bottleneck_dnn)\n",
    "print(bottleneck_out)"
   ]
  },
  {
   "cell_type": "code",
   "execution_count": 7,
   "metadata": {},
   "outputs": [
    {
     "name": "stdout",
     "output_type": "stream",
     "text": [
      "Tensor(\"Relu_4:0\", shape=(?, 200), dtype=float32)\n"
     ]
    }
   ],
   "source": [
    "#hidden layer 4\n",
    "\n",
    "hidden_4 = 200\n",
    "hidden_4_weights = tf.get_variable( \"hidden_4_weights\",\n",
    "                                  shape = [ bottleneck_dim, hidden_4],\n",
    "                                  dtype = tf.float32,\n",
    "                                  initializer = tf.contrib.layers.xavier_initializer())\n",
    "\n",
    "hidden_4_bias = tf.get_variable( \"hidden_4_bias\",\n",
    "                                    shape = [hidden_4],\n",
    "                                    dtype = tf.float32,\n",
    "                                   initializer = tf.contrib.layers.xavier_initializer())\n",
    "\n",
    "hidden_4_dnn = tf.matmul( bottleneck_out, hidden_4_weights) + hidden_4_bias\n",
    "hidden_4_out = tf.nn.relu(hidden_4_dnn)\n",
    "print(hidden_4_out)"
   ]
  },
  {
   "cell_type": "code",
   "execution_count": 8,
   "metadata": {},
   "outputs": [
    {
     "name": "stdout",
     "output_type": "stream",
     "text": [
      "Tensor(\"Relu_5:0\", shape=(?, 200), dtype=float32)\n"
     ]
    }
   ],
   "source": [
    "#hidden layer 1\n",
    "\n",