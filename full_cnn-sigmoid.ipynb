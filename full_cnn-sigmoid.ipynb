{
 "cells": [
  {
   "cell_type": "code",
   "execution_count": 1,
   "metadata": {},
   "outputs": [],
   "source": [
    "import tensorflow as tf\n",
    "import numpy as np\n",
    "import os\n",
    "import time"
   ]
  },
  {
   "cell_type": "code",
   "execution_count": 2,
   "metadata": {},
   "outputs": [],
   "source": [
    "# IN and Out variables for data \n",
    "dimension = 120\n",
    "fps = 100 #frames per second\n",
    "filters = 128\n",
    "\n",
    "x = tf.placeholder(tf.float32, [None, dimension, fps])  #Inputs\n",
    "y = tf.placeholder(tf.float32, [None, 2])   #Labels\n",
    "keep_prob = tf.placeholder(dtype= tf.float32)"
   ]
  },
  {
   "cell_type": "code",
   "execution_count": 3,
   "metadata": {},
   "outputs": [
    {
     "name": "stdout",
     "output_type": "stream",
     "text": [
      "Tensor(\"Reshape:0\", shape=(?, 120, 100, 1), dtype=float32)\n",
      "Tensor(\"Sigmoid:0\", shape=(?, 1, 98, 128), dtype=float32)\n"
     ]
    }
   ],
   "source": [
    "#convolution Layer - 1 \n",
    "weights_conv1 = tf.get_variable( \"weights_conv1\", shape = [dimension, 3, 1, filters], \n",
    "                                  initializer = tf.contrib.layers.xavier_initializer())\n",
    "\n",
    "bias_conv1 = tf.get_variable( \"bias_conv1\", shape = [filters],\n",
    "                             initializer = tf.contrib.layers.xavier_initializer())\n",
    "\n",
    "input_x = tf.reshape(x, [-1, dimension, fps, 1])\n",
    "print(input_x)\n",
    "\n",
    "#output\n",
    "conv1 = tf.nn.conv2d( input_x, weights_conv1, strides=[1, 1, 1, 1], padding='VALID') \n",
    "conv1_out = tf.nn.sigmoid( conv1 + bias_conv1 )\n",
    "conv1_drop = tf.nn.dropout(conv1_out, keep_prob)\n",
    "print(conv1_out)"
   ]
  },
  {
   "cell_type": "code",
   "execution_count": 4,
   "metadata": {},
   "outputs": [
    {
     "name": "stdout",
     "output_type": "stream",
     "text": [
      "Tensor(\"dropout_1/mul:0\", shape=(?, 1, 96, 128), dtype=float32)\n"
     ]
    }
   ],
   "source": [
    "#convolution layer - 2\n",
    "\n",
    "weights_conv2 = tf.get_variable( \"weights_conv2\", shape = [ 1, 3, filters, filters],\n",
    "                               initializer = tf.contrib.layers.xavier_initializer())\n",
    "bias_conv2 = tf.get_variable(\"bias_conv2\", shape = [filters],\n",
    "                            initializer = tf.contrib.layers.xavier_initializer())\n",
    "\n",
    "#output\n",
    "conv2 = tf.nn.conv2d( conv1_drop, weights_conv2, strides = [1, 1, 1, 1], padding = 'VALID')\n",
    "conv2_out = tf.nn.sigmoid( conv2 + bias_conv2)\n",
    "conv2_drop = tf.nn.dropout(conv2_out, keep_prob)\n",
    "print(conv2_drop)"
   ]
  },
  {
   "cell_type": "code",
   "execution_count": 5,
   "metadata": {},
   "outputs": [
    {
     "name": "stdout",
     "output_type": "stream",
     "text": [
      "Tensor(\"dropout_2/mul:0\", shape=(?, 1, 94, 128), dtype=float32)\n"
     ]
    }
   ],
   "source": [
    "#convolution layer - 3\n",
    "\n",
    "weights_conv3 = tf.get_variable( \"weights_conv3\", shape = [ 1, 3, filters, filters],\n",
    "                               initializer = tf.contrib.layers.xavier_initializer())\n",
    "bias_conv3 = tf.get_variable(\"bias_conv3\", shape = [filters],\n",
    "                            initializer = tf.contrib.layers.xavier_initializer())\n",
    "\n",
    "#output\n",
    "conv3 = tf.nn.conv2d( conv2_drop, weights_conv3, strides = [1, 1, 1, 1], padding ='VALID')\n",
    "conv3_out = tf.nn.sigmoid( conv3 + bias_conv3)\n",
    "conv3_drop = tf.nn.dropout(conv3_out, keep_prob)\n",
    "print(conv3_drop)"
   ]
  },
  {
   "cell_type": "code",
   "execution_count": 6,
   "metadata": {},
   "outputs": [
    {
     "name": "stdout",
     "output_type": "stream",
     "text": [
      "Tensor(\"dropout_3/mul:0\", shape=(?, 1, 47, 128), dtype=float32)\n"
     ]
    }
   ],
   "source": [
    "#Max pooling layer\n",
    "\n",
    "weights_conv4 = tf.get_variable( \"weights_conv4\", shape = [ 1, 2, filters, filters],\n",
    "                               initializer = tf.contrib.layers.xavier_initializer())\n",
    "bias_conv4 = tf.get_variable(\"bias_conv4\", shape = [filters],\n",
    "                            initializer = tf.contrib.layers.xavier_initializer())\n",
    "\n",
    "conv4 = tf.nn.conv2d( conv3_drop, weights_conv4, strides = [1, 2, 2, 1], padding = \"VALID\")\n",
    "conv4_out = tf.nn.sigmoid( conv4 + bias_conv4 )\n",
    "conv4_drop = tf.nn.dropout(conv4_out, keep_prob)\n",
    "pool_out = conv4_drop\n",
    "print(pool_out)"
   ]
  },
  {
   "cell_type": "code",
   "execution_count": 7,
   "metadata": {},
   "outputs": [
    {
     "data": {
      "text/plain": [
       "<tf.Tensor 'dropout_4/mul:0' shape=(?, 1, 45, 128) dtype=float32>"
      ]
     },
     "execution_count": 7,
     "metadata": {},
     "output_type": "execute_result"
    }
   ],
   "source": [
    "weights_conv5 = tf.get_variable( \"weights_conv5\", shape = [ 1, 3, filters, filters],\n",
    "                               initializer = tf.contrib.layers.xavier_initializer())\n",
    "bias_conv5 = tf.get_variable(\"bias_conv5\", shape = [filters],\n",
    "                            initializer = tf.contrib.layers.xavier_initializer())\n",
    "\n",
    "conv5 = tf.nn.conv2d( pool_out, weights_conv5, strides = [1, 1, 1, 1], padding = \"VALID\")\n",
    "conv5_out = tf.nn.sigmoid( conv5 + bias_conv5 )\n",
    "conv5_drop = tf.nn.dropout(conv5_out, keep_prob)\n",
    "conv5_drop"
   ]
  },
  {
   "cell_type": "code",
   "exe