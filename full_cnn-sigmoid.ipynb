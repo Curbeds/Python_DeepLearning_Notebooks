{
 "cells": [
  {
   "cell_type": "code",
   "execution_count": 1,
   "metadata": {},
   "outputs": [],
   "source": [
    "import tensorflow as tf\n",
    "import numpy as np\n",
    "import os\n",
    "import time"
   ]
  },
  {
   "cell_type": "code",
   "execution_count": 2,
   "metadata": {},
   "outputs": [],
   "source": [
    "# IN and Out variables for data \n",
    "dimension = 120\n",
    "fps = 100 #frames per second\n",
    "filters = 128\n",
    "\n",
    "x = tf.placeholder(tf.float32, [None, dimension, fps])  #Inputs\n",
    "y = tf.placeholder(tf.float32, [None, 2])   #Labels\n",
    "keep_prob = tf.placeholder(dtype= tf.float32)"
   ]
  },
  {
   "cell_type": "code",
   "execution_count": 3,
   "metadata": {},
   "outputs": [
    {
     "name": "stdout",
     "output_type": "stream",
     "text": [
      "Tensor(\"Reshape:0\", shape=(?, 120, 100, 1), dtype=float32)\n",
      "Tensor(\"Sigmoid:0\", shape=(?, 1, 98, 128), dtype=float32)\n"
     ]
    }
   ],
   "source": [
    "#convolution Layer - 1 \n",
    "weights_conv1 = tf.get_variable( \"weights_conv1\", shape = [dimension, 3, 1, filters], \n",
    "                                  initializer = tf.contrib.layers.xavier_initializer())\n",
    "\n",
    "bias_conv1 = tf.get_variable( \"bias_conv1\", shape = [filters],\n",
    "                             initializer = tf.contrib.layers.xavier_initializer())\n",
    "\n",
    "input_x = tf.reshape(x, [-1, dimension, fps, 1])\n",
    "print(inp