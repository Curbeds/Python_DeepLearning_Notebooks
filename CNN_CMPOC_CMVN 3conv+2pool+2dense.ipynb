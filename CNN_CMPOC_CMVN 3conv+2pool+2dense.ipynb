{
 "cells": [
  {
   "cell_type": "code",
   "execution_count": 1,
   "metadata": {},
   "outputs": [],
   "source": [
    "import tensorflow as tf\n",
    "import numpy as np\n",
    "import os"
   ]
  },
  {
   "cell_type": "code",
   "execution_count": 2,
   "metadata": {},
   "outputs": [],
   "source": [
    "#in and out data\n",
    "dimension = 90\n",
    "context_frames = 100\n",
    "\n",
    "x = tf.placeholder(tf.float32,[None,dimension,context_frames]) #inputs\n",
    "y = tf.placeholder(tf.float32,[None,2]) #labels"
   ]
  },
  {
   "cell_type": "code",
   "execution_count": 3,
   "metadat