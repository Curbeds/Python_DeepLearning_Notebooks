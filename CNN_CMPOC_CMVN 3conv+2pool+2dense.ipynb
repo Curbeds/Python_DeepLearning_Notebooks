{
 "cells": [
  {
   "cell_type": "code",
   "execution_count": 1,
   "metadata": {},
   "outputs": [],
   "source": [
    "import tensorflow as tf\n",
    "import numpy as np\n",
    "import os"
   ]
  },
  {
   "cell_type": "code",
   "execution_count": 2,
   "metadata": {},
   "outputs": [],
   "source": [
    "#in and out data\n",
    "dimension = 90\n",
    "context_frames = 100\n",
    "\n",
    "x = tf.placeholder(tf.float32,[None,dimension,context_frames]) #inputs\n",
    "y = tf.placeholder(tf.float32,[None,2]) #labels"
   ]
  },
  {
   "cell_type": "code",
   "execution_count": 3,
   "metadata": {},
   "outputs": [
    {
     "name": "stdout",
     "output_type": "stream",
     "text": [
      "Tensor(\"Reshape:0\", shape=(?, 90, 100, 1), dtype=float32)\n",
      "Tensor(\"Relu:0\", shape=(?, 44, 49, 128), dtype=float32)\n"
     ]
    }
   ],
   "source": [
    "#conv layer 1\n",
    "#[filter_height, filter_width, in-channels, out-channels]\n",
    "weights_conv1 = tf.Variable(tf.truncated_normal(shape = [3,3,1,128], stddev = 0.01, dtype = tf.float32))\n",
    "bias_conv1 = tf.Variable(tf.constant(0.1,shape = [128]))\n",
    "\n",
    "# reshape of input -1