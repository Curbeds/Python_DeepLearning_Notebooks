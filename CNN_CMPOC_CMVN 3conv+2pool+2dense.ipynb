{
 "cells": [
  {
   "cell_type": "code",
   "execution_count": 1,
   "metadata": {},
   "outputs": [],
   "source": [
    "import tensorflow as tf\n",
    "import numpy as np\n",
    "import os"
   ]
  },
  {
   "cell_type": "code",
   "execution_count": 2,
   "metadata": {},
   "outputs": [],
   "source": [
    "#in and out data\n",
    "dimension = 90\n",
    "context_frames = 100\n",
    "\n",
    "x = tf.placeholder(tf.float32,[None,dimension,context_frames]) #inputs\n",
    "y = tf.placeholder(tf.float32,[None,2]) #labels"
   ]
  },
  {
   "cell_type": "code",
   "execution_count": 3,
   "metadata": {},
   "outputs": [
    {
     "name": "stdout",
     "output_type": "stream",
     "text": [
      "Tensor(\"Reshape:0\", shape=(?, 90, 100, 1), dtype=float32)\n",
      "Tensor(\"Relu:0\", shape=(?, 44, 49, 128), dtype=float32)\n"
     ]
    }
   ],
   "source": [
    "#conv layer 1\n",
    "#[filter_height, filter_width, in-channels, out-channels]\n",
    "weights_conv1 = tf.Variable(tf.truncated_normal(shape = [3,3,1,128], stddev = 0.01, dtype = tf.float32))\n",
    "bias_conv1 = tf.Variable(tf.constant(0.1,shape = [128]))\n",
    "\n",
    "# reshape of input -1 dynamically calculates the batch_size,in_height,in_width,in_channels\n",
    "input_x = tf.reshape(x,[-1,dimension,context_frames,1])\n",
    "print(input_x)\n",
    "conv1 = tf.nn.conv2d(input_x,weights_conv1, strides = [1,2,2,1],padding = 'VALID')\n",
    "conv1_out = tf.nn.relu(conv1+bias_conv1)\n",
    "print(conv1_out)"
   ]
  },
  {
   "cell_type": "code",
   "execution_count": 4,
   "metadata": {},
   "outputs": [
    {
     "name": "stdout",
     "output_type": "stream",
     "text": [
      "Tensor(\"Relu_1:0\", shape=(?, 21, 24, 64), dtype=float32)\n"
     ]
    }
   ],
   "source": [
    "#conv layer 2\n",
    "weights_conv2 = tf.Variable(tf.truncated_normal(shape = [3,3,128,64], stddev = 0.01, dtype = tf.float32))\n",
    "bias_conv2 = tf.Variable(tf.constant(0.1,shape = [64]))\n",
    "\n",
    "conv2 = tf.nn.conv2d(conv1_out,weights_conv2,strides = [1,2,2,1], padding = 'VALID')\n",
    "conv2_out = tf.nn.relu(conv2+bias_conv2)\n",
    "print(conv2_out)"
   ]
  },
  {
   "cell_type": "code",
   "execution_count": 5,
   "metadata": {},
   "outputs": [
    {
     "name": "stdout",
     "output_type": "stream",
     "text": [
      "Tensor(\"Relu_2:0\", shape=(?, 17, 20, 64), dtype=float32)\n"
     ]
    }
   ],
   "source": [
    "#conv layer 3\n",
    "weights_conv3 = tf.Variable(tf.truncated_normal(shape = [5,5,64,64], stddev = 0.01, dtype = tf.float32))\n",
    "bias_conv3 = tf.Variable(tf.constant(0.1,shape = [64]))\n",
    "\n",
    "conv3 = tf.nn.conv2d(conv2_out,weights_conv3,strides = [1,1,1,1], padding = 'VALID')\n",
    "conv3_out = tf.nn.relu(conv3+bias_conv3)\n",
    "print(conv3_out)"
   ]
  },
  {
   "cell_type": "code",
   "execution_count": 6,
   "metadata": {},
   "outputs": [
    {
     "name": "stdout",
     "output_type": "stream",
     "text": [
      "Tensor(\"max_pooling2d/MaxPool:0\", shape=(?, 14, 17, 64), dtype=float32)\n"
     ]
    }
   ],
   "source": [
    "#max pool 1\n",
    "pool1_out = tf.layers.max_pooling2d(conv3_out, pool_size = [4,4], strides = [1,1], padding = 'VALID')\n",
    "#conv4_out = tf.nn.relu(conv4+bias_conv4)\n",
    "print(pool1_out)\n"
   ]
  },
  {
   "cell_type": "code",
   "execution_count": 7,
   "metadata": {},
   "outputs": [
    {
     "name": "stdout",
     "output_type": "stream",
     "text": [
      "Tensor(\"max_pooling2d_2/MaxPool:0\", shape=(?, 9, 12, 64), dtype=float32)\n"
     ]
    }
   ],
   "source": [
    "#max pool 2\n",
    "pool2_out = tf.layers.max_pooling2d(pool1_out, pool_size = [6,6], strides = [1,1], padding = 'VALID')\n",
    "#conv4_out = tf.nn.relu(conv4+bias_conv4)\n",
    "print(pool2_out)"
   ]
  },
  {
   "cell_type": "code",
   "execution_count": 8,
   "metadata": {},
   "outputs": [
    {
     "name": "stdout",
     "output_type": "stream",
     "text": [
      "<class 'tensorflow.python.framework.tensor_shape.Dimension'> 6912\n",
      "Tensor(\"Relu_3:0\", shape=(?, 256), dtype=float32)\n"
     ]
    }
   ],
   "source": [
    "#print(pool_out.shape[1])\n",
    "reduced_dim = pool2_out.shape[1] * pool2_out.shape[2] * pool2_out.shape[3]\n",
    "print(type(reduced_dim),int(reduced_dim))\n",
    "\n",
    "#dense layer 1\n",
    "weights_dense1 = tf.Variable(tf.truncated_normal([int(reduced_dim),256], stddev = 0.01, dtype = tf.float32))\n",
    "bias_dense1 = tf.Variable(tf.constant(0.1,shape = [256]))\n",
    "\n",
    "input_dense = tf.reshape(pool2_out, shape = [-1,int(reduced_dim)])\n",
    "#print(input_dense)\n",
    "dense1_sum = tf.matmul(input_dense,weights_dense1)+bias_dense1\n",
    "dense1_output = tf.nn.relu(dense1_sum)\n",
    "print(dense1_output)"
   ]
  },
  {
   "cell_type": "code",
   "execution_count": 9,
   "metadata": {},
   "outputs": [
    {
     "name": "stdout",
     "output_type": "stream",
     "text": [
      "Tensor(\"dropout/mul:0\", shape=(?, 256), dtype=float32)\n"
     ]
    }
   ],
   "source": [
    "#adding dropout to dense layer 1\n",
    "keep_prob = tf.placeholder(dtype = tf.float32)\n",
    "dense1_dropout = tf.nn.dropout(dense1_output,keep_prob)\n",
    "print(dense1_dropout)"
   ]
  },
  {
   "cell_type": "code",
   "execution_count": 10,
   "metadata": {},
   "outputs": [
    {
     "name": "stdout",
     "output_type": "stream",
     "text": [
      "Tensor(\"Relu_4:0\", shape=(?, 256), dtype=float32)\n"
     ]
    }
   ],
   "source": [
    "# dense layer 2\n",
    "weights_dense2 = tf.Variable(tf.truncated_normal([256,256], stddev = 0.01, dtype = tf.float32))\n",
    "bias_dense2 = tf.Variable(tf.constant(0.1,shape = [256]))\n",
    "\n",
    "dense2_sum = tf.matmul(dense1_dropout,weights_dense2)+ bias_dense2\n",
    "dense2_output = tf.nn.relu(dense2_sum)\n",
    "print(dense2_output)"
   ]
  },
  {
   "cell_type": "code",
   "execution_count": 11,
   "metadata": {},
   "outputs": [
    {
     "name": "stdout",
     "output_type": "stream",
     "text": [
      "Tensor(\"dropout_1/mul:0\", shape=(?, 256), dtype=float32)\n"
     ]
    }
   ],
   "source": [
    "dense2_dropout = tf.nn.dropout(dense2_output,keep_prob)\n",
    "print(dense2_dropout)"
   ]
  },
  {
   "cell_type": "raw",
   "metadata": {},
   "source": [
    "# dense layer 3\n",
    "weights_dense3 = tf.Variable(tf.truncated_normal([512,512], stddev = 0.01, dtype = tf.float32))\n",
    "bias_dense3 = tf.Variable(tf.constant(0.1,shape = [512]))\n",
    "\n",
    "dense3_sum = tf.matmul(dense2_dropout,weights_dense3)+ bias_dense3\n",
    "dense3_output = tf.nn.relu(dense3_sum)\n",
    "print(dense3_output)"
   ]
  },
  {
   "cell_type": "raw",
   "metadata": {},
   "source": [
    "dense3_dropout = tf.nn.dropout(dense3_output,keep_prob)\n",
    "print(dense3_dropout)"
   ]
  },
  {
   "cell_type": "code",
   "execution_count": 12,
   "metadata": {},
   "outputs": [
    {
     "name": "stdout",
     "output_type": "stream",
     "text": [
      "Tensor(\"Softmax:0\", shape=(?, 2), dtype=float32)\n"
     ]
    }
   ],
   "source": [
    "#output layer\n",
    "output_weights = tf.Variable(tf.truncated_normal(shape = [256,2], stddev = 0.01, dtype = tf.float32))\n",
    "output_bias = tf.Variable(tf.constant(0.1,shape = [2]))\n",
    "\n",
    "output_sum = tf.matmul(dense2_dropout,output_weights)+output_bias\n",
    "final_output = tf.nn