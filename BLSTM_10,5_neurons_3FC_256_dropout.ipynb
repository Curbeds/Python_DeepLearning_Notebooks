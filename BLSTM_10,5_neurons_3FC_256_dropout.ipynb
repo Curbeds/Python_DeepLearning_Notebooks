
{
 "cells": [
  {
   "cell_type": "code",
   "execution_count": 1,
   "metadata": {},
   "outputs": [],
   "source": [
    "import tensorflow as tf\n",
    "import numpy as np\n",
    "import os\n",
    "\n",
    "context = 5\n",
    "feature_dimension =39\n",
    "fc_neurons = 256\n",
    "tf.set_random_seed(1234)"
   ]
  },
  {
   "cell_type": "code",
   "execution_count": 2,
   "metadata": {},
   "outputs": [
    {