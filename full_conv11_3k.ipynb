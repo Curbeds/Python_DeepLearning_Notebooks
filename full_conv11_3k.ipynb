
{
 "cells": [
  {
   "cell_type": "code",
   "execution_count": 1,
   "metadata": {},
   "outputs": [],
   "source": [
    "import tensorflow as tf\n",
    "import numpy as np\n",
    "import os\n",
    "import time"
   ]
  },
  {
   "cell_type": "code",
   "execution_count": 2,
   "metadata": {},
   "outputs": [],
   "source": [
    "# IN and Out variables for data \n",
    "dimension = 36\n",
    "fps = 100 #frames per second\n",
    "filters = 128\n",
    "\n",
    "x = tf.placeholder(tf.float32, [None, dimension, fps])  #Inputs\n",
    "y = tf.placeholder(tf.float32, [None, 2])   #Labels\n",
    "keep_prob = tf.placeholder(dtype= tf.float32)"
   ]
  },
  {
   "cell_type": "code",
   "execution_count": 3,
   "metadata": {},
   "outputs": [
    {
     "name": "stdout",
     "output_type": "stream",
     "text": [
      "Tensor(\"Reshape:0\", shape=(?, 36, 100, 1), dtype=float32)\n",
      "Tensor(\"Relu:0\", shape=(?, 1, 98, 128), dtype=float32)\n"
     ]
    }
   ],
   "source": [
    "#convolution Layer - 1 \n",
    "weights_conv1 = tf.get_variable( \"weights_conv1\", shape = [dimension, 3, 1, filters], \n",
    "                                  initializer = tf.contrib.layers.xavier_initializer())\n",
    "\n",
    "bias_conv1 = tf.get_variable( \"bias_conv1\", shape = [filters],\n",
    "                             initializer = tf.contrib.layers.xavier_initializer())\n",
    "\n",
    "input_x = tf.reshape(x, [-1, dimension, fps, 1])\n",
    "print(input_x)\n",
    "\n",
    "#output\n",
    "conv1 = tf.nn.conv2d( input_x, weights_conv1, strides=[1, 1, 1, 1], padding='VALID') \n",
    "conv1_out = tf.nn.relu( conv1 + bias_conv1 )\n",
    "conv1_drop = tf.nn.dropout(conv1_out, keep_prob)\n",
    "print(conv1_out)"
   ]
  },
  {
   "cell_type": "code",
   "execution_count": 4,
   "metadata": {},
   "outputs": [
    {
     "name": "stdout",
     "output_type": "stream",
     "text": [
      "Tensor(\"dropout_1/mul:0\", shape=(?, 1, 96, 128), dtype=float32)\n"
     ]
    }
   ],
   "source": [
    "#convolution layer - 2\n",
    "\n",
    "weights_conv2 = tf.get_variable( \"weights_conv2\", shape = [ 1, 3, filters, filters],\n",
    "                               initializer = tf.contrib.layers.xavier_initializer())\n",
    "bias_conv2 = tf.get_variable(\"bias_conv2\", shape = [filters],\n",
    "                            initializer = tf.contrib.layers.xavier_initializer())\n",
    "\n",
    "#output\n",
    "conv2 = tf.nn.conv2d( conv1_drop, weights_conv2, strides = [1, 1, 1, 1], padding = 'VALID')\n",
    "conv2_out = tf.nn.relu( conv2 + bias_conv2)\n",
    "conv2_drop = tf.nn.dropout(conv2_out, keep_prob)\n",
    "print(conv2_drop)"
   ]
  },
  {
   "cell_type": "code",
   "execution_count": 5,
   "metadata": {},
   "outputs": [
    {
     "name": "stdout",
     "output_type": "stream",
     "text": [
      "Tensor(\"dropout_2/mul:0\", shape=(?, 1, 94, 128), dtype=float32)\n"
     ]
    }
   ],
   "source": [
    "#convolution layer - 3\n",
    "\n",
    "weights_conv3 = tf.get_variable( \"weights_conv3\", shape = [ 1, 3, filters, filters],\n",
    "                               initializer = tf.contrib.layers.xavier_initializer())\n",
    "bias_conv3 = tf.get_variable(\"bias_conv3\", shape = [filters],\n",
    "                            initializer = tf.contrib.layers.xavier_initializer())\n",
    "\n",
    "#output\n",
    "conv3 = tf.nn.conv2d( conv2_drop, weights_conv3, strides = [1, 1, 1, 1], padding ='VALID')\n",
    "conv3_out = tf.nn.relu( conv3 + bias_conv3)\n",
    "conv3_drop = tf.nn.dropout(conv3_out, keep_prob)\n",
    "print(conv3_drop)"
   ]
  },
  {
   "cell_type": "code",
   "execution_count": 6,
   "metadata": {},
   "outputs": [
    {
     "name": "stdout",
     "output_type": "stream",
     "text": [
      "Tensor(\"dropout_3/mul:0\", shape=(?, 1, 47, 128), dtype=float32)\n"
     ]
    }
   ],
   "source": [
    "#Max pooling layer\n",
    "\n",
    "weights_conv4 = tf.get_variable( \"weights_conv4\", shape = [ 1, 2, filters, filters],\n",
    "                               initializer = tf.contrib.layers.xavier_initializer())\n",
    "bias_conv4 = tf.get_variable(\"bias_conv4\", shape = [filters],\n",
    "                            initializer = tf.contrib.layers.xavier_initializer())\n",
    "\n",
    "conv4 = tf.nn.conv2d( conv3_drop, weights_conv4, strides = [1, 1, 2, 1], padding = \"VALID\")\n",
    "conv4_out = tf.nn.relu( conv4 + bias_conv4 )\n",
    "conv4_drop = tf.nn.dropout(conv4_out, keep_prob)\n",
    "pool_out = conv4_drop\n",
    "print(pool_out)"
   ]
  },
  {
   "cell_type": "code",
   "execution_count": 7,
   "metadata": {},
   "outputs": [
    {
     "data": {
      "text/plain": [
       "<tf.Tensor 'dropout_4/mul:0' shape=(?, 1, 45, 128) dtype=float32>"
      ]
     },
     "execution_count": 7,
     "metadata": {},
     "output_type": "execute_result"
    }
   ],
   "source": [
    "weights_conv5 = tf.get_variable( \"weights_conv5\", shape = [ 1, 3, filters, filters],\n",
    "                               initializer = tf.contrib.layers.xavier_initializer())\n",
    "bias_conv5 = tf.get_variable(\"bias_conv5\", shape = [filters],\n",
    "                            initializer = tf.contrib.layers.xavier_initializer())\n",
    "\n",
    "conv5 = tf.nn.conv2d( pool_out, weights_conv5, strides = [1, 1, 1, 1], padding = \"VALID\")\n",
    "conv5_out = tf.nn.relu( conv5 + bias_conv5 )\n",
    "conv5_drop = tf.nn.dropout(conv5_out, keep_prob)\n",
    "conv5_drop"
   ]
  },
  {
   "cell_type": "code",
   "execution_count": 8,
   "metadata": {},
   "outputs": [
    {
     "data": {
      "text/plain": [
       "<tf.Tensor 'dropout_5/mul:0' shape=(?, 1, 43, 128) dtype=float32>"
      ]
     },
     "execution_count": 8,
     "metadata": {},
     "output_type": "execute_result"
    }
   ],
   "source": [
    "weights_conv6 = tf.get_variable( \"weights_conv6\", shape = [ 1, 3, filters, filters],\n",
    "                               initializer = tf.contrib.layers.xavier_initializer())\n",
    "bias_conv6 = tf.get_variable(\"bias_conv6\", shape = [filters],\n",
    "                            initializer = tf.contrib.layers.xavier_initializer())\n",
    "\n",
    "conv6 = tf.nn.conv2d( conv5_drop, weights_conv6, strides = [1, 1, 1, 1], padding = \"VALID\")\n",
    "conv6_out = tf.nn.relu( conv6 + bias_conv6 )\n",
    "conv6_drop = tf.nn.dropout(conv6_out, keep_prob)\n",
    "conv6_drop"
   ]
  },
  {
   "cell_type": "code",
   "execution_count": 9,
   "metadata": {},
   "outputs": [
    {
     "data": {
      "text/plain": [
       "<tf.Tensor 'dropout_6/mul:0' shape=(?, 1, 41, 128) dtype=float32>"
      ]
     },
     "execution_count": 9,
     "metadata": {},
     "output_type": "execute_result"
    }
   ],
   "source": [
    "weights_conv7 = tf.get_variable( \"weights_conv7\", shape = [ 1, 3, filters, filters],\n",
    "                               initializer = tf.contrib.layers.xavier_initializer())\n",
    "bias_conv7 = tf.get_variable(\"bias_conv7\", shape = [filters],\n",
    "                            initializer = tf.contrib.layers.xavier_initializer())\n",
    "\n",
    "conv7 = tf.nn.conv2d( conv6_drop, weights_conv7, strides = [1, 1, 1, 1], padding = \"VALID\")\n",
    "conv7_out = tf.nn.relu( conv7 + bias_conv7 )\n",
    "conv7_drop = tf.nn.dropout(conv7_out, keep_prob)\n",
    "conv7_drop"
   ]
  },
  {
   "cell_type": "code",
   "execution_count": 10,
   "metadata": {},
   "outputs": [
    {
     "data": {
      "text/plain": [
       "<tf.Tensor 'dropout_7/mul:0' shape=(?, 1, 20, 128) dtype=float32>"
      ]
     },
     "execution_count": 10,
     "metadata": {},
     "output_type": "execute_result"
    }
   ],
   "source": [
    "weights_conv8 = tf.get_variable( \"weights_conv8\", shape = [ 1, 2, filters, filters],\n",
    "                               initializer = tf.contrib.layers.xavier_initializer())\n",
    "bias_conv8 = tf.get_variable(\"bias_conv8\",shape = [filters],\n",
    "                            initializer = tf.contrib.layers.xavier_initializer())\n",
    "\n",
    "conv8 = tf.nn.conv2d( conv7_drop, weights_conv8, strides = [1, 1, 2, 1], padding = \"VALID\")\n",
    "conv8_out = tf.nn.relu( conv8 + bias_conv8 )\n",
    "conv8_drop = tf.nn.dropout(conv8_out, keep_prob)\n",
    "conv8_drop"
   ]
  },
  {
   "cell_type": "raw",
   "metadata": {},
   "source": [
    "weights_conv9 = tf.get_variable( \"weights_conv9\", shape = [ 1, 3, filters, filters],\n",
    "                               initializer = tf.contrib.layers.xavier_initializer())\n",
    "bias_conv9 = tf.get_variable(\"bias_conv9\", shape = [filters],\n",
    "                            initializer = tf.contrib.layers.xavier_initializer())\n",
    "\n",
    "conv9 = tf.nn.conv2d( conv8_drop, weights_conv9, strides = [1, 1, 1, 1], padding = \"VALID\")\n",
    "conv9_out = tf.nn.relu( conv9 + bias_conv9 )\n",
    "conv9_drop = tf.nn.dropout( conv9_out, keep_prob)\n",
    "conv9_drop"
   ]
  },
  {
   "cell_type": "raw",
   "metadata": {},
   "source": [
    "weights_conv10 = tf.get_variable( \"weights_conv10\", shape = [ 1, 3, filters, filters],\n",
    "                               initializer = tf.contrib.layers.xavier_initializer())\n",
    "bias_conv10 = tf.get_variable(\"bias_conv10\", shape = [filters],\n",
    "                            initializer = tf.contrib.layers.xavier_initializer())\n",
    "\n",
    "conv10 = tf.nn.conv2d( conv9_drop, weights_conv10, strides = [1, 1, 1, 1], padding = \"VALID\")\n",
    "conv10_out = tf.nn.relu( conv10 + bias_conv10 )\n",
    "conv10_drop = tf.nn.dropout( conv10_out, keep_prob)\n",
    "conv10_drop"
   ]
  },
  {
   "cell_type": "raw",
   "metadata": {},
   "source": [
    "# weights_conv11 = tf.get_variable( \"weights_conv11\", shape = [ 1, 1, filters, 2],\n",
    "#                                initializer = tf.contrib.layers.xavier_initializer())\n",
    "# bias_conv11 = tf.get_variable(\"bias_conv11\", shape = [2],\n",
    "#                             initializer = tf.contrib.layers.xavier_initializer())\n",
    "\n",
    "conv11 = tf.nn.conv2d( conv9_drop,weights_conv11, strides = [1, 1, 1, 1], padding = \"VALID\")\n",
    "conv11_out = tf.nn.relu( conv11 + bias_conv11 )\n",
    "conv11_drop = tf.nn.dropout( conv11_out, keep_prob)\n",
    "conv11_drop"
   ]
  },
  {
   "cell_type": "code",
   "execution_count": 11,
   "metadata": {},
   "outputs": [
    {
     "data": {
      "text/plain": [
       "<tf.Tensor 'dropout_8/mul:0' shape=(?, 1, 20, 2) dtype=float32>"
      ]
     },
     "execution_count": 11,
     "metadata": {},
     "output_type": "execute_result"
    }
   ],
   "source": [
    "weights_conv12 = tf.get_variable( \"weights_conv12\", shape = [ 1, 1, filters, 2],\n",
    "                               initializer = tf.contrib.layers.xavier_initializer())\n",
    "bias_conv12 = tf.get_variable(\"bias_conv12\", shape = [2],\n",
    "                            initializer = tf.contrib.layers.xavier_initializer())\n",
    "\n",
    "conv12 = tf.nn.conv2d( conv8_drop, weights_conv12, strides = [1, 1, 1, 1], padding = \"VALID\")\n",