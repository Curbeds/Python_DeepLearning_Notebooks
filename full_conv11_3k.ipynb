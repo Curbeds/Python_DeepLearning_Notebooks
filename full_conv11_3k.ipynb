
{
 "cells": [
  {
   "cell_type": "code",
   "execution_count": 1,
   "metadata": {},
   "outputs": [],
   "source": [
    "import tensorflow as tf\n",
    "import numpy as np\n",
    "import os\n",
    "import time"
   ]
  },
  {
   "cell_type": "code",
   "execution_count": 2,
   "metadata": {},
   "outputs": [],
   "source": [
    "# IN and Out variables for data \n",
    "dimension = 36\n",
    "fps = 100 #frames per second\n",
    "filters = 128\n",
    "\n",
    "x = tf.placeholder(tf.float32, [None, dimension, fps])  #Inputs\n",
    "y = tf.placeholder(tf.float32, [None, 2])   #Labels\n",
    "keep_prob = tf.placeholder(dtype= tf.float32)"
   ]
  },
  {
   "cell_type": "code",