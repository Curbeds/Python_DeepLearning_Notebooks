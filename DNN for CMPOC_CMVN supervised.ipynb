
{
 "cells": [
  {
   "cell_type": "code",
   "execution_count": 2,
   "metadata": {},
   "outputs": [],
   "source": [
    "import numpy as np\n",
    "import os\n",
    "import tensorflow as tf"
   ]
  },
  {
   "cell_type": "code",
   "execution_count": 3,
   "metadata": {},
   "outputs": [],
   "source": [
    "feat_size = 90\n",
    "context = 5\n",
    "\n",
    "input_x = tf.placeholder(dtype = tf.float32, shape = [None, feat_size*(2*context +1)])\n",
    "output_y = tf.placeholder(dtype = tf.float32, shape = [None, 2])\n"
   ]
  },
  {
   "cell_type": "code",
   "execution_count": 4,
   "metadata": {},
   "outputs": [
    {
     "name": "stdout",