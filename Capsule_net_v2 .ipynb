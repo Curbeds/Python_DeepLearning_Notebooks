
{
 "cells": [
  {
   "cell_type": "code",
   "execution_count": 2,
   "metadata": {},
   "outputs": [],
   "source": [
    "import tensorflow as tf\n",
    "import numpy as np\n",
    "import os"
   ]
  },
  {
   "cell_type": "code",
   "execution_count": 3,
   "metadata": {},
   "outputs": [],
   "source": [
    "feature_dimension = 90\n",
    "frames = 100\n",
    "\n",
    "x = tf.placeholder(shape = [None,feature_dimension,frames], dtype = tf.float32)\n",
    "y = tf.placeholder(shape = [None,2], dtype = tf.float32)\n"
   ]
  },
  {
   "cell_type": "code",
   "execution_count": 4,
   "metadata": {},
   "outputs": [],
   "source": [
    "#reshaping the input\n",
    "input_x = tf.reshape(x,[-1,feature_dimension,frames,1])\n",
    "conv1 = tf.layers.conv2d(input_x,\n",
    "                        filters = 32,\n",
    "                        kernel_size = 9,\n",
    "                        activation = tf.nn.relu,\n",
    "                        padding = 'VALID',\n",
    "                        name = 'conv1'\n",
    "                        )\n",
    "\n",
    "conv2 = tf.layers.conv2d(conv1,\n",
    "                        filters = 32,\n",
    "                        kernel_size = 9,\n",
    "                        activation = tf.nn.relu,\n",
    "                        padding = 'VALID',\n",
    "                        name = 'conv2'\n",
    "                        )\n",
    "\n",
    "conv_out = tf.layers.conv2d(conv2,\n",
    "                        filters = 32,\n",
    "                        kernel_size = 9,\n",
    "                        activation = tf.nn.relu,\n",
    "                        padding = 'VALID',\n",
    "                        name = 'conv_out'\n",
    "                        )\n",
    "\n",
    "eplison = 1e-7"
   ]
  },
  {
   "cell_type": "code",
   "execution_count": 5,
   "metadata": {},
   "outputs": [
    {
     "data": {
      "text/plain": [
       "<tf.Tensor 'conv_out/Relu:0' shape=(?, 66, 76, 32) dtype=float32>"
      ]
     },
     "execution_count": 5,
     "metadata": {},
     "output_type": "execute_result"
    }
   ],
   "source": [
    "conv_out"
   ]
  },
  {
   "cell_type": "code",
   "execution_count": 6,
   "metadata": {},
   "outputs": [],
   "source": [
    "def squash(vector,axis = -2, keep_dims = True):\n",
    "    squared_norm = tf.reduce_sum(tf.square(vector), axis = axis, keep_dims = keep_dims)\n",
    "    squash_factor = squared_norm / (1. + squared_norm)\n",
    "    safe_norm = tf.sqrt(squared_norm + eplison)\n",
    "    unit_vector = vector / safe_norm\n",
    "    return squash_factor * unit_vector\n",
    "    "
   ]
  },
  {
   "cell_type": "code",
   "execution_count": 7,
   "metadata": {},
   "outputs": [],
   "source": [
    "#primary capsules\n",
    "\n",
    "vector_dimension = 8\n",
    "total_capsules = int(conv_out.shape[1]*conv_out.shape[2]*conv_out.shape[3] // vector_dimension )\n",
    "raw_capsules = tf.reshape(conv_out ,shape = [-1, total_capsules , vector_dimension])\n",
    "primary_capsules = squash(raw_capsules,-1,True)"
   ]
  },
  {
   "cell_type": "code",
   "execution_count": 8,
   "metadata": {},
   "outputs": [
    {
     "name": "stdout",
     "output_type": "stream",
     "text": [
      "Tensor(\"mul:0\", shape=(?, 20064, 8), dtype=float32)\n"
     ]
    }
   ],
   "source": [
    "print(primary_capsules)\n",
    "batch_size = tf.shape(x)[0]"
   ]
  },
  {
   "cell_type": "code",
   "execution_count": 9,
   "metadata": {},
   "outputs": [
    {
     "name": "stdout",
     "output_type": "stream",
     "text": [
      "<tf.Variable 'Variable:0' shape=(1, 20064, 512) dtype=float32_ref>\n",
      "Tensor(\"Tile:0\", shape=(?, 20064, 512), dtype=float32)\n",
      "Tensor(\"transpose:0\", shape=(8, 20064, ?), dtype=float32)\n",
      "Tensor(\"Reshape_2:0\", shape=(?, 512, 8), dtype=float32)\n"
     ]
    }
   ],
   "source": [
    "selected_capsules_number = 512\n",
    "\n",
    "selected_capsules_weights = tf.Variable( tf.random_normal(shape = [1,total_capsules,selected_capsules_number],\n",
    "                                        stddev = 0.1,\n",
    "                                       dtype = tf.float32))\n",
    "print(selected_capsules_weights)\n",
    "\n",
    "selected_capsules_weights_batches = tf.tile(selected_capsules_weights, [batch_size, 1, 1])\n",
    "print(selected_capsules_weights_batches)\n",
    "print(tf.transpose(primary_capsules))\n",
    "selected_capsules = tf.matmul(primary_capsules,selected_capsules_weights_batches, transpose_a = True)\n",
    "\n",
    "selected_capsules = tf.reshape(selected_capsules , shape = [-1,selected_capsules_number, vector_dimension])\n",
    "print(selected_capsules)"
   ]
  },
  {
   "cell_type": "code",
   "execution_count": 10,
   "metadata": {},
   "outputs": [
    {
     "name": "stdout",
     "output_type": "stream",
     "text": [
      "<tf.Variable 'digit_capsule_weights:0' shape=(1, 512, 2, 16, 8) dtype=float32_ref>\n",
      "Tensor(\"digit_capsule_weights_tiled:0\", shape=(?, 512, 2, 16, 8), dtype=float32)\n"
     ]
    }
   ],
   "source": [
    "output_vector = 16\n",
    "output_labels = 2                                                     # [?,1152,2,16,8]\n",
    "\n",
    "digit_capsule_weights = tf.Variable( tf.random_normal(shape = [1, selected_capsules_number, output_labels, output_vector, vector_dimension ],\n",
    "                                                     stddev = 0.1,\n",
    "                                                     dtype = tf.float32),\n",
    "                                                       name = 'digit_capsule_weights')\n",
    "print(digit_capsule_weights)\n",
    "batch_size = tf.shape(x)[0]   #knows the shape of the tensor at the run time\n",
    "digit_capsule_weights_tiled = tf.tile(digit_capsule_weights,[batch_size, 1, 1, 1, 1], name = 'digit_capsule_weights_tiled')\n",
    "\n",
    "print(digit_capsule_weights_tiled)"
   ]
  },
  {
   "cell_type": "code",
   "execution_count": 11,
   "metadata": {},
   "outputs": [
    {
     "name": "stdout",
     "output_type": "stream",
     "text": [
      "Tensor(\"selected_caps_reshape_tiled:0\", shape=(?, 512, 2, 8, 1), dtype=float32)\n"
     ]
    }
   ],
   "source": [
    "                                                                #\n",
    "\n",
    "selected_caps_reshape = tf.reshape(selected_capsules, shape = [batch_size, selected_capsules_number, 1, vector_dimension, 1],\n",
    "                                  name = 'selected_caps_reshape')\n",
    "selected_caps_reshape_tiled = tf.tile(selected_caps_reshape,\n",
    "                                          [1, 1, output_labels, 1 , 1 ],\n",
    "                                         name = 'selected_caps_reshape_tiled')\n",
    "print(selected_caps_reshape_tiled)"
   ]
  },
  {
   "cell_type": "code",
   "execution_count": 12,
   "metadata": {},
   "outputs": [
    {
     "name": "stdout",
     "output_type": "stream",
     "text": [
      "Tensor(\"raw_predictions:0\", shape=(?, 512, 2, 16, 1), dtype=float32)\n"
     ]
    }
   ],
   "source": [
    "all_capsules_pred_output = tf.matmul(digit_capsule_weights_tiled,selected_caps_reshape_tiled ,\n",
    "                                    name = 'raw_predictions')\n",
    "print(all_capsules_pred_output)"
   ]
  },
  {
   "cell_type": "code",
   "execution_count": 13,
   "metadata": {},
   "outputs": [
    {
     "name": "stdout",
     "output_type": "stream",
     "text": [
      "Tensor(\"weighted_predictions:0\", shape=(?, 512, 2, 16, 1), dtype=float32)\n"
     ]
    }
   ],
   "source": [
    "# dymanic routing 1\n",
    "\n",
    "raw_weights = tf.zeros([batch_size, selected_capsules_number, output_labels, 1 , 1 ],\n",
    "                          dtype = tf.float32,\n",
    "                          name = 'raw_weights')\n",
    "routing_weights = tf.nn.softmax(raw_weights,\n",
    "                               dim = 2,\n",
    "                                name = 'routing_weights')\n",
    "weighted_predictions = tf.multiply(routing_weights, all_capsules_pred_output,\n",
    "                                  name = 'weighted_predictions')\n",
    "print(weighted_predictions)\n"
   ]
  },
  {
   "cell_type": "code",
   "execution_count": 14,
   "metadata": {},
   "outputs": [
    {
     "data": {
      "text/plain": [
       "<tf.Tensor 'mul_1:0' shape=(?, 1, 2, 16, 1) dtype=float32>"
      ]
     },
     "execution_count": 14,
     "metadata": {},
     "output_type": "execute_result"
    }
   ],
   "source": [
    "# sum over all 512 capsules\n",
    "\n",
    "weighted_sum = tf.reduce_sum(weighted_predictions, \n",
    "                            axis = 1, keep_dims = True,\n",
    "                            name = 'weighted_sum')\n",
    "pred_vector_r1 = squash(weighted_sum)\n",
    "\n",
    "pred_vector_r1"
   ]
  },
  {
   "cell_type": "code",
   "execution_count": 15,
   "metadata": {},
   "outputs": [
    {
     "name": "stdout",
     "output_type": "stream",
     "text": [
      "Tensor(\"transpose_2:0\", shape=(1, 16, 2, 512, ?), dtype=float32)\n",
      "Tensor(\"Tile_1:0\", shape=(?, 512, 2, 16, 1), dtype=float32)\n",
      "Tensor(\"agreements:0\", shape=(?, 512, 2, 1, 1), dtype=float32)\n"
     ]
    }
   ],
   "source": [
    "# agreements\n",
    "pred_vector_r1_tiled = tf.tile(pred_vector_r1,\n",
    "                              [1,selected_capsules_number, 1, 1, 1])\n",
    "\n",
    "print(tf.transpose(all_capsules_pred_output))\n",
    "print(pred_vector_r1_tiled)\n",
    "agreements = tf.matmul(all_capsules_pred_output,pred_vector_r1_tiled, \n",
    "                     transpose_a = True, name = 'agreements')\n",
    "print(agreements)"
   ]
  },
  {
   "cell_type": "code",
   "execution_count": 16,
   "metadata": {},
   "outputs": [
    {
     "name": "stdout",
     "output_type": "stream",
     "text": [
      "Tensor(\"mul_2:0\", shape=(?, 1, 2, 16, 1), dtype=float32)\n",
      "Tensor(\"Sqrt_3:0\", shape=(?, 1, 2, 1), dtype=float32)\n",
      "Tensor(\"ArgMax:0\", shape=(?,), dtype=int64)\n",
      "Tensor(\"Reshape_8:0\", shape=(?, 2), dtype=float32)\n",
      "Tensor(\"Reshape_9:0\", shape=(?, 2), dtype=float32)\n"
     ]
    }
   ],
   "source": [
    "# round 2\n",
    "\n",
    "raw_weights = raw_weights + agreements\n",
    "routing_weights_r2 = tf.nn.softmax(raw_weights,\n",
    "                               dim = 2,\n",
    "                                name = 'routing_weights_r2')\n",
    "weighted_predictions_r2 = tf.multiply(routing_weights_r2, all_capsules_pred_output,\n",
    "                                  name = 'weighted_predictions_r2')\n",
    "weighted_sum_r2 = tf.reduce_sum(weighted_predictions_r2, \n",
    "                            axis = 1, keep_dims = True,\n",
    "                            name = 'weighted_sum_r2')\n",
    "pred_vector_r2 = squash(weighted_sum_r2)\n",
    "\n",