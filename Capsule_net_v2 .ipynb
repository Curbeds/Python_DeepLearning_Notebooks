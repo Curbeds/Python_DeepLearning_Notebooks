
{
 "cells": [
  {
   "cell_type": "code",
   "execution_count": 2,
   "metadata": {},
   "outputs": [],
   "source": [
    "import tensorflow as tf\n",
    "import numpy as np\n",
    "import os"
   ]
  },
  {
   "cell_type": "code",
   "execution_count": 3,
   "metadata": {},
   "outputs": [],
   "source": [
    "feature_dimension = 90\n",
    "frames = 100\n",
    "\n",
    "x = tf.placeholder(shape = [None,feature_dimension,frames], dtype = tf.float32)\n",
    "y = tf.placeholder(shape = [None,2], dtype = tf.float32)\n"
   ]
  },
  {
   "cell_type": "code",
   "execution_count": 4,
   "metadata": {},
   "outputs": [],
   "source": [
    "#reshaping the input\n",
    "input_x = tf.reshape(x,[-1,feature_dimension,frames,1])\n",
    "conv1 = tf.layers.conv2d(input_x,\n",
    "                        filters = 32,\n",
    "                        kernel_size = 9,\n",
    "                        activation = tf.nn.relu,\n",
    "                        padding = 'VALID',\n",
    "                        name = 'conv1'\n",
    "                        )\n",
    "\n",
    "conv2 = tf.layers.conv2d(conv1,\n",
    "                        filters = 32,\n",
    "                        kernel_size = 9,\n",
    "                        activation = tf.nn.relu,\n",
    "                        padding = 'VALID',\n",
    "                        name = 'conv2'\n",
    "                        )\n",
    "\n",
    "conv_out = tf.layers.conv2d(conv2,\n",
    "                        filters = 32,\n",
    "                        kernel_size = 9,\n",
    "                        activation = tf.nn.relu,\n",
    "                        padding = 'VALID',\n",
    "                        name = 'conv_out'\n",
    "                        )\n",
    "\n",
    "eplison = 1e-7"
   ]
  },
  {
   "cell_type": "code",
   "execution_count": 5,
   "metadata": {},
   "outputs": [
    {
     "data": {
      "text/plain": [
       "<tf.Tensor 'conv_out/Relu:0' shape=(?, 66, 76, 32) dtype=float32>"
      ]
     },
     "execution_count": 5,
     "metadata": {},
     "output_type": "execute_result"
    }
   ],
   "source": [
    "conv_out"
   ]
  },
  {
   "cell_type": "code",
   "execution_count": 6,
   "metadata": {},
   "outputs": [],
   "source": [
    "def squash(vector,axis = -2, keep_dims = True):\n",