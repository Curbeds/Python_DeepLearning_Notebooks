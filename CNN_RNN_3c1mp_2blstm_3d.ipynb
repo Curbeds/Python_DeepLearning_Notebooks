{
 "cells": [
  {
   "cell_type": "code",
   "execution_count": 1,
   "metadata": {},
   "outputs": [],
   "source": [
    "import os\n",
    "import numpy as np\n",
    "import tensorflow as tf\n",
    "from scipy.io impo