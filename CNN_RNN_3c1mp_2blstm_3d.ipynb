{
 "cells": [
  {
   "cell_type": "code",
   "execution_count": 1,
   "metadata": {},
   "outputs": [],
   "source": [
    "import os\n",
    "import numpy as np\n",
    "import tensorflow as tf\n",
    "from scipy.io import loadmat,savemat\n",
    "\n",
    "feature_dimension = 36\n",
    "frames = 100\n",
    "fc_neurons = 256\n",
    "tf.set_random_seed(3456)"
   ]
  },
  {
   "cell_type": "code",
   "execution_count": 2,
   "metadata": {},
   "outputs": [
    {
     "name": "stdout",
     "output_type": "stream",
     "text": [
      "(?, 36, 100)\n"
     ]
    }
   ],
   "source": [
    "x = tf.placeholder(shape = [None, feature_dimension, frames], dtype = tf.float32) #inputs\n",
    "print(x.shape)\n",
    "y = tf.placeholder(shape = [None, 2], dtype = tf.float32) #labels\n"
   ]
  },
  {
   "cell_type": "code",
   "execution_count": 3,
   "metadata": {},
   "outputs": [
    {
     "name": "stdout",
     "output_type": "stream",
     "text": [
      "Tensor(\"Reshape:0\", shape=(?, 60, 100, 1), dtype=float32)\n",
      "Tensor(\"Relu:0\", shape=(?, 29, 49, 256), dtype=float32)\n"
     ]
    }
   ],
   "source": [
    "#conv layer 1\n",
    "weights_conv1 = tf.get_variable(\"conv1_weights\",\n",
    "                                shape = [3,3,1,256],  \n",
    "                                dtype = tf.float32,\n",
    "                               initializer = tf.contrib.layers.xavier_initializer())\n",
    "bias_conv1 = tf.get_variable(\"conv1_bias\",\n",
    "                             shape = [256],\n",
    "                              dtype = tf.float32,\n",
    "                              initializer = tf.contrib.layers.xavier_initializer())\n",
    "\n",
    "#reshaping of input(batch_size, feature_width, feature_height,input_channels)\n",
    "input_x = tf.reshape(x,[-1,feature_dimension, frames,1])\n",
    "print(input_x)\n",
    "\n",
    "conv1 = tf.nn.conv2d(input_x, weights_conv1, strides = [1,1,1,1], padding = 'VALID')\n",
    "conv1_out = tf.nn.relu(conv1)\n",
    "print(conv1_out)\n"
   ]
  },
  {
   "cell_type": "code",
   "execution_count": 4,
   "metadata": {},
   "outputs": [
    {
     "name": "stdout",
     "output_type": "stream",
     "text": [
      "Tensor(\"Relu_1:0\", shape=(?, 14, 24, 128), dtype=float32)\n"
     ]
    }
   ],
   "source": [
    "# conv layer 2\n",
    "weights_conv2 = tf.get_variable(\"conv2_weights\",\n",
    "                               shape = [3,3,256,128],\n",
    "                               dtype = tf.float32,\n",
    "                                initializer = tf.contrib.layers.xavier_initializer())\n",
    "bias_conv2 = tf.get_variable(\"conv2_bias\",\n",
    "                             shape = [128],\n",
    "                            dtype = tf.float32,\n",
    "                            initializer = tf.contrib.layers.xavier_initializer())\n",
    "\n",
    "conv2 = tf.nn.conv2d(conv1_out,weights_conv2, strides = [1,2,2,1], padding = 'VALID')\n",
    "conv2_out = tf.nn.relu(conv2)\n",
    "print(conv2_out)"
   ]
  },
  {
   "cell_type": "code",
   "execution_count": 5,
   "metadata": {},
   "outputs": [],
   "source": [
    "# conv layer 3\n",
    "weights_conv3 = tf.get_variable(\"conv3_weights\",\n",
    "                               shape = [5,5,128,128],\n",
    "                               dtype = tf.float32,\n",
    "                                initializer = tf.contrib.layers.xavier_initializer())\n",
    "bias_conv3 = tf.get_variable(\"conv3_bias\",\n",
    "                             shape = [128],\n",
    "                            dtype = tf.float32,\n",
    "                            initializer = tf.contrib.layers.xavier_initializer())\n",
    "\n",
    "conv3 = tf.nn.conv2d(conv2_out,weights_conv3, strides = [1,2,2,1], padding = 'VALID')\n",
    "conv3_out = tf.nn.relu(conv3)\n"
   ]
  },
  {
   "cell_type": "code",
   "execution_count": 6,
   "metadata": {},
   "outputs": [
    {
     "name": "stdout",
     "output_type": "stream",
     "text": [
      "Tensor(\"max_pooling2d/MaxPool:0\", shape=(?, 2, 7, 128), dtype=float32)\n"
     ]
    }
   ],
   "source": [
    "#max pool1\n",
    "pool1_out = tf.layers.max_pooling2d(conv3_out,pool_size = [4,4], strides = [1,1], padding = 'VALID')\n",
    "print(pool1_out)"
   ]
  },
  {
   "cell_type": "code",
   "execution_count": 7,
   "metadata": {},
   "outputs": [],
   "source": [
    "#unstacking the input\n",
    "reshape_input = tf.reshape(conv3_out,[-1,int(conv3_out.shape[1])*int(conv3_out.shape[2]),int(conv3_out.shape[3])])\n",
    "input_lstm = tf.unstack(reshape_input,reshape_input.shape[2],2)\n",
    "#print(input_lstm)"
   ]
  },
  {
   "cell_type": "code",
   "execution_count": 8,
   "metadata": {},
   "outputs": [],
   "source": [
    "lstm_fw1 = tf.contrib.rnn.LSTMCell( 64, use_peepholes = True,\n",
    "                    initializer = tf.contrib.layers.xavier_initializer(uniform=True, seed=3456, dtype=tf.float32))\n",
    "lstm_fw2 = tf.contrib.rnn.LSTMCell( 64, use_peepholes = True,\n",
    "                    initializer = tf.contrib.layers.xavier_initializer(uniform=True, seed=3457, dtype=tf.float32))\n",
    "\n",
    "lstm_fw = tf.contrib.rnn.MultiRNNCell((lstm_fw1, lstm_fw2))\n",
    "\n",
    "\n",
    "lstm_back1 = tf.contrib.rnn.LSTMCell( 64, use_peepholes = True,\n",
    "                    initializer = tf.contrib.layers.xavier_initializer(uniform=True, seed=3458, dtype=tf.float32))\n",
    "lstm_back2 = tf.contrib.rnn.LSTMCell( 64, use_peepholes = True,\n",
    "                    initializer = tf.contrib.layers.xavier_initializer(uniform=True, seed=3459, dtype=tf.float32))\n",
    "\n",
    "lstm_back = tf.contrib.rnn.MultiRNNCell((lstm_back1, lstm_back2))\n",
    "\n",
    "blstm_out, state_fw, state_bw = tf.contrib.rnn.stack_bidirectional_rnn( [lstm_fw], [lstm_back], input_lstm, dtype = tf.float32)"
   ]
  },
  {
   "cell_type": "code",
   "execution_count": 9,
   "metadata": {},
   "outputs": [
    {
     "name": "stdout",
     "output_type": "stream",
     "text": [
      "Tensor(\"Relu_3:0\", shape=(?, 512), dtype=float32)\n"
     ]
    }
   ],
   "source": [
    "#print(blstm_out[-1])\n",
    "#dense layer 1\n",
    "\n",
    "dense_1 = 512\n",
    "dense_1_weights = tf.get_variable( \"dense_1_weights\",\n",
    "                                  shape = [ 128, dense_1],\n",
    "                                  dtype = tf.float32,\n",
    "                                  initializer = tf.contrib.layers.xavier_initializer())\n",
    "\n",
    "dense_1_bias = tf.get_variable( \"dense_1_bias\",\n",
    "                                    shape = [dense_1],\n",
    "                                    dtype = tf.float32,\n",
    "                                   initializer = tf.contrib.layers.xavier_initializer())\n",
    "\n",
    "dense_1_dnn = tf.matmul( blstm_out[-1],dense_1_weights) + dense_1_bias\n",
    "dense_1_out = tf.nn.relu(dense_1_dnn)\n",
    "print(dense_1_out)"
   ]
  },
  {
   "cell_type": "code",
   "execution_count": 10