{
 "cells": [
  {
   "cell_type": "code",
   "execution_count": 1,
   "metadata": {},
   "outputs": [],
   "source": [
    "import os\n",
    "import numpy as np\n",
    "import tensorflow as tf\n",
    "from scipy.io import loadmat,savemat\n",
    "\n",
    "feature_dimension = 36\n",
    "frames = 100\n",
    "fc_neurons = 256\n",
    "tf.set_random_seed(3456)"
   ]
  },
  {
   "cell_type": "code",
   "execution_count": 2,
   "metadata": {},
   "outputs": [
    {
     "name": "stdout",
     "output_type": "stream",
     "text": [
      "(?, 36, 100)\n"
     ]
    }
   ],
   "source": [
    "x = tf.placeholder(shape = [None, feature_dimension, frames], dtype = tf.float32) #inputs\n",
    "print(x.shape)\n",
    "y = tf.placeholder(shape = [None, 2], dtype = tf.float32) #labels\n"
   ]
  },
  {
   "cell_type": "code",
   "execution_count": 3,
   "metadata": {},
   "outputs": [
    {
     "name": "stdout",
     "output_type": "stream",
     "text": [
      "Tensor(\"Reshape:0\", shape=(?, 60, 100, 1), dtype=float32)\n",
      "Tensor(\"Relu:0\", shape=(?, 29, 49, 256), dtype=float32)\n"
     ]
    }
   ],
   "source": [
    "#conv layer 1\n",
    "weights_conv1 = tf.get_variable(\"conv1_weights\",\n",
    "                                shape = [3,3,1,256],  \n",
    "                                dtype = tf.float32,\n",
    "                               initializer = tf.contrib.layers.xavier_initializer())\n",
    "bias_conv1 = tf.get_variable(\"conv1_bias\",\n",
    "                             shape = [256],\n",
    "                              dtype = tf.float32,\n",
    "                              initializer = tf.contrib.layers.xavier_initializer())\n",
    "\n",
    "#reshaping of input(batch_size, feature_width, feature_height,input_channels)\n",
    "input_x = tf.reshape(x,[-1,feature_dimension, frames,1])\n",
    "print(input_x)\n",
    "\n",
    "conv1 = tf.nn.conv2d(input_x, weights_conv1, strides = [1,1,1,1], padding = 'VALID')\n",
    "conv1_out = tf.nn.relu(conv1)\n",
    "print(conv1_out)\n"
   ]
  },
  {
   "cell_type": "code",
   "execution_count": 4,
   "metadata": {},
   "outputs": [
    {
     "name": "stdout",
     "output_type": "stream",
     "text": [
      "Tensor(\"Relu_1:0\", shape=(?, 14, 24, 128), dtype=float32)\n"
     ]
    }
   ],
   "source": [
    "# conv layer 2\n",
    "weights_conv2 = tf.get_variable(\"conv2_weights\",\n",
    "                               shape = [3,3,256,128],\n",
    "                               dtype = tf.float32,\n",
    "                                initializer = tf.contrib.layers.xavier_initializer())\n",
    "bias_conv2 = tf.get_variable(\"conv2_bias\",\n",
    "                             shape = [128],\n",
    "                            dtype = tf.float32,\n",
    "                            initializer = tf.contrib.layers.xavier_initializer())\n",
    "\n",
    "conv2 = tf.nn.conv2d(conv1_out,weights_conv2, strides = [1,2,2,1], padding = 'VALID')\n",
    "conv2_out = tf.nn.relu(conv2)\n",
    "print(conv2_out)"
   ]
  },
  {
   "cell_type": "code",
   "execution_count": 5,
   "metadata": {},
   "outputs": [],
   "source": [
    "# conv layer 3\n",
    "weights_conv3 = tf.get_variable(\"conv3_weights\",\n",
    "                               shape = [5,5,128,128],\n",
    "                               dtype = tf.float32,\n",
    "                                initializer = tf.contrib.layers.xavier_initializer())\n",
    "bias_conv3 = tf.get_variable(\"conv3_bias\",\n",
    "                             shape = [128],\n",
    "                            dtype = tf.float32,\n",
    "                            initializer = tf.contrib.layers.xavier_initializer())\n",
    "\n",
    "conv3 = tf.nn.conv2d(conv2_out,weights_conv3, strides = [1,2,2,1], padding = 'VALID')\n",
    "c