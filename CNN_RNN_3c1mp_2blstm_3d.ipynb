{
 "cells": [
  {
   "cell_type": "code",
   "execution_count": 1,
   "metadata": {},
   "outputs": [],
   "source": [
    "import os\n",
    "import numpy as np\n",
    "import tensorflow as tf\n",
    "from scipy.io import loadmat,savemat\n",
    "\n",
    "feature_dimension = 36\n",
    "frames = 100\n",
    "fc_neurons = 256\n",
    "tf.set_random_seed(3456)"
   ]
  },
  {
   "cell_type": "code",
   "execution_count": 2,
   "metadata": {},
   "outputs": [
    {
     "name": "stdout",
     "output_type": "stream",
     "text": [
      "(?, 36, 100)\n"
     ]
    }
   ],
   "source": [
    "x = tf.placeholder(shape = [None, feature_dimension, frames], dtype = tf.float32) #inputs\n",
    "print(x.shape)\n",
    "y = tf.placeholder(shape = [None, 2], dtype = tf.float32) #labels\n"
   ]
  },
  {
   "cell_type": "code",
   "execution_count": 3,
   "metadata": {},
   "outputs": [
    {
     "name": "stdout",
     "output_type": "stream",
     "text": [
      "Tensor(\"Reshape:0\", shape=(?, 60, 100, 1), dtype=float32)\n",
      "Tensor(\"Relu:0\", shape=(?, 29, 49, 256), dtype=float32)\n"
     ]
   