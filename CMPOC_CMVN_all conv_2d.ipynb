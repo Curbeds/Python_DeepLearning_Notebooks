{
 "cells": [
  {
   "cell_type": "code",
   "execution_count": 4,
   "metadata": {},
   "outputs": [],
   "source": [
    "import numpy as np\n",
    "from scipy.io import loadmat,savemat\n",
    "import os\n",
    "import tensorflow as tf\n"
   ]
  },
  {
   "cell_type": "code",
   "execution_count": 5,
   "metadata": {},
   "outputs": [],
   "source": [
    "#in and out data\n",
    "dimension = 60\n",
    "context_frames = 100\n",
    "\n",
    "x = tf.placeholder(tf.float32,[None,dimension,context_frames]) #inputs\n",
    "y = tf.placeholder(tf.float32,[None,2]) #labels"
   ]
  },
  {
   "cell_type": "code",
   "execution_count": 7,
   "metadata": {},
   "outputs": [
    {
     "name": "stdout",
     "output_type": "stream",
     "text": [
      "Tensor(\"Reshape_1:0\", shape=(?, 60, 100, 1), dtype=float32)\n",
      "Tensor(\"Relu:0\", shape=(?, 29, 49, 256), dtype=float32)\n"
     ]
    }
   ],
   "source": [
    "#conv layer 1\n",
    "#[filter_height, filter_width, in-channels, out-channels]\n",
    "weights_conv1 = tf.Variable(tf.truncated_normal(shape = [3,3,1,256], stddev = 0.01, dtype = tf.float32))\n",
    "bias_conv1 = tf.Variable(tf.constant(0.1,shape = [256]))\n",
    "\n",
    "# reshape of input -1 dynamically calculates the batch_size,in_height,in_width,in_channels\n",
    "input_x = tf.reshape(x,[-1,dimension,context_frames,1])\n",
    "print(input_x)\n",
    "conv1 = tf.nn.conv2d(input_x,weights_conv1, strides = [1,2,2,1],padding = 'VALID')\n",
    "conv1_out = tf.nn.relu(conv1+bias_conv1)\n",
    "print(conv1_out)"
   ]
  },
  {
   "cell_type": "code",
   "execution_count": 8,
   "metadata": {},
   "outputs": [
    {
     "name": "stdout",
     "output_type": "stream",
     "text": [
      "Tensor(\"Relu_1:0\", shape=(?, 14, 24, 128), dtype=float32)\n"
     ]
    }
   ],
   "source": [
    "#conv layer 2\n",
    "weights_conv2 = tf.Variable(tf.truncated_normal(shape = [3,3,256,128], stddev = 0.01, dtype = tf.float32))\n",
    "bias_conv2 = tf.Variable(tf.constant(0.1,shape = [128]))\n",
    "\n",
    "conv2 = tf.nn.conv2d(conv1_out,weights_conv2,strides = [1,2,2,1], padding = 'VALID')\n",
    "conv2_out = tf.nn.relu(conv2+bias_conv2)\n",
    "print(conv2_out)"
   ]
  },
  {
   "cell_type": "code",
   "execution_count": 9,
   "metadata": {},
   "outputs": [
    {
     "name": "stdout",
     "output_type": "stream",
     "text": [
      "Tensor(\"Relu_2:0\", shape=(?, 10, 20, 64), dtype=float32)\n"
     ]
    }
   ],
   "source": [
    "#conv layer 3\n",
    "weights_conv3 = tf.Variable(tf.truncated_normal(shape = [5,5,128,64], stddev = 0.01, dtype = tf.float32))\n",
    "bias_conv3 = tf.Variable(tf.constant(0.1,shape = [64]))\n",
    "\n",
    "conv3 = tf.nn.conv2d(conv2_out,weights_conv3,strides = [1,1,1,1], padding = 'VALID')\n",
    "conv3_out = tf.nn.relu(conv3+bias_conv3)\n",
    "print(conv3_out)"
   ]
  },
  {
   "cell_type": "code",
   "execution_count": 10,
   "metadata": {},
   "outputs": [
    {
     "name": "stdout",
     "output_type": "stream",
     "text": [
      "Tensor(\"Relu_3:0\", shape=(?, 6, 16, 64), dtype=float32)\n"
     ]
    }
   ],
   "source": [
    "#conv layer 4\n",
    "weights_conv4 = tf.Variable(tf.truncated_normal(shape = [5,5,64,64], stddev = 0.01, dtype = tf.float32))\n",
    "bias_conv4 = tf.Variable(tf.constant(0.1,shape = [64]))\n",
    "\n",
    "conv4 = tf.nn.conv2d(conv3_out,weights_conv4,strides = [1,1,1,1], padding = 'VALID')\n",
    "conv4_out = tf.nn.relu(conv4+bias_conv4)\n",
    "print(conv4_out)"
   ]
  },
  {
   "cell_type": "code",
   "execution_count": 11,
   "metadata": {},
   "outputs": [
    {
     "name": "stdout",
     "output_type": "stream",
     "text": [
      "2304 <class 'tensorflow.python.framework.tensor_shape.Dimension'>\n"
     ]
    }
   ],
   "source": [
    "#dimensionality reduce\n",
    "reduced_dim = conv4_out.shape[1] * conv4_out.shape[1] * conv4_out.shape[3]\n",
    "print(int(reduced_dim),type(reduced_dim))\n"
   ]
  },
  {
   "cell_type": "code",
   "execution_count": 12,
   "metadata": {},
   "outputs": [
    {
     "name": "stdout",
     "output_type": "stream",
     "text": [
      "Tensor(\"Relu_4:0\", shape=(?, 256), dtype=float32)\n"
     ]
    }
   ],
   "source": [
    "#dense layer 1\n",
    "weights_dense1 = tf.Variable(tf.truncated_normal([int(reduced_dim),256], stddev = 0.01, dtype = tf.float32))\n",
    "bias_dense1 = tf.Variable(tf.constant(0.1,shape = [256]))\n",
    "\n",
    "input_dense = tf.reshape(conv4_out, shape = [-1,int(reduced_dim)])\n",
    "#print(input_dense)\n",
    "dense1_sum = tf.matmul(input_dense,weights_dense1)+bias_dense1\n",
    "dense1_output = tf.nn.relu(dense1_sum)\n",
    "print(dense1_output)"
   ]
  },
  {
   "cell_type": "code",
   "execution_count": 13,
   "metadata": {},
   "outputs": [
    {
     "name": "stdout",
     "output_type": "stream",
     "text": [
      "Tensor(\"dropout/mul:0\", shape=(?, 256), dtype=float32)\n"
     ]
    }
   ],
   "source": [
    "#adding dropout to dense layer 1\n",
    "keep_prob = tf.placeholder(dtype = tf.float32)\n",
    "dense1_dropout = tf.nn.dropout(dense1_output,keep_prob)\n",
    "print(dense1_dropout)"
   ]
  },
  {
   "cell_type": "code",
   "execution_count": 14,
   "metadata": {},
   "outputs": [
    {
     "name": "stdout",
     "output_type": "stream",
     "text": [
      "Tensor(\"Relu_5:0\", shape=(?, 256), dtype=float32)\n"
     ]
    }
   ],
   "source": [
    "# dense layer 2\n",
    "weights_dense2 = tf.Variable(tf.truncated_normal([256,256], stddev = 0.01, dtype = tf.float32))\n",
    "bias_dense2 = tf.Variable(tf.constant(0.1,shape = [256]))\n",
    "\n",
    "dense2_sum = tf.matmul(dense1_dropout,weights_dense2)+ bias_dense2\n",
    "dense2_output = tf.nn.relu(dense2_sum)\n",
    "print(dense2_output)"
   ]
  },
  {
   "cell_type": "code",
   "execution_count": 15,
   "metadata": {},
   "outputs": [
    {
     "name": "stdout",
     "output_type": "stream",
     "text": [
      "Tensor(\"dropout_1/mul:0\", shape=(?, 256), dtype=float32)\n"
     ]
    }
   ],
   "source": [
    "dense2_dropout = tf.nn.dropout(dense2_output,keep_prob)\n",
    "print(dense2_dropout)"
   ]
  },
  {
   "cell_type": "code",
   "execution_count": null,
   "metadata": {},
   "outputs": [],
   "source": [
    "#output layer\n",
    "output_weights = tf.Variable(tf.truncated_normal(shape = [256,2], stddev