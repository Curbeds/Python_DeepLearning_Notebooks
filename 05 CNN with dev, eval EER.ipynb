
{
 "cells": [
  {
   "cell_type": "code",
   "execution_count": 1,
   "metadata": {},
   "outputs": [],
   "source": [
    "import tensorflow as tf\n",
    "import numpy as np\n",
    "import os\n"
   ]
  },
  {
   "cell_type": "code",
   "execution_count": 2,
   "metadata": {},
   "outputs": [],
   "source": [
    "# IN and Out variables for data \n",
    "dimension = 60\n",
    "fps = 11 #frames per second\n",
    "\n",
    "x = tf.placeholder(tf.float32, [None, dimension, fps])  #Inputs\n",
    "y = tf.placeholder(tf.float32, [None, 2])   #Labels"
   ]
  },
  {
   "cell_type": "code",
   "execution_count": 3,
   "metadata": {},
   "outputs": [
    {
     "name": "stdout",
     "output_type": "stream",
     "text": [
      "Tensor(\"Reshape:0\", shape=(?, 39, 100, 1), dtype=float32)\n",
      "Tensor(\"Relu:0\", shape=(?, 1, 98, 128), dtype=float32)\n"
     ]
    }
   ],
   "source": [
    "#convolution Layer - 1 \n",
    "# [ filter_height, filter_width, in_channels, out_channels ]\n",
    "weights_conv1 = tf.Variable( tf.truncated_normal( shape = [dimension, 3, 1, 128], stddev =0.01, dtype = tf.float32), dtype = tf.float32) \n",
    "biases_conv1 = tf.Variable( tf.constant(0.1, shape = [128]))\n",
    "\n",
    "#reshape of input # -1 = dynamically caluclates the batch size , in_height, in_width, in_channels\n",
    "input_x = tf.reshape(x, [-1, dimension, fps, 1])\n",
    "#input_x = tf.to_double(input_x)\n",
    "print(input_x)\n",
    "\n",
    "#output\n",
    "conv1 = tf.nn.conv2d( input_x, weights_conv1, strides=[1, 1, 1, 1], padding='VALID') \n",
    "conv1_out = tf.nn.relu( conv1 + biases_conv1 )\n",
    "\n",
    "print(conv1_out)"
   ]
  },
  {
   "cell_type": "code",
   "execution_count": 4,
   "metadata": {},
   "outputs": [
    {
     "name": "stdout",
     "output_type": "stream",
     "text": [
      "Tensor(\"Relu_1:0\", shape=(?, 1, 96, 128), dtype=float32)\n"
     ]
    }
   ],
   "source": [
    "#convolution layer - 2\n",
    "\n",
    "weights_conv2 = tf.Variable( tf.truncated_normal( shape = [1, 3, 128, 128], stddev = 0.01 ))\n",
    "biases_conv2 = tf.Variable( tf.constant(0.1, shape = [128] ))\n",
    "\n",
    "#output\n",
    "conv2 = tf.nn.conv2d( conv1_out, weights_conv2, strides = [1, 1, 1, 1], padding = 'VALID')\n",
    "conv2_out = tf.nn.relu( conv2 + biases_conv2)\n",
    "\n",
    "print(conv2_out)"
   ]
  },
  {
   "cell_type": "code",
   "execution_count": 5,
   "metadata": {},
   "outputs": [
    {
     "name": "stdout",
     "output_type": "stream",
     "text": [
      "Tensor(\"Relu_2:0\", shape=(?, 1, 94, 128), dtype=float32)\n"
     ]
    }
   ],
   "source": [
    "#convolution layer - 3\n",
    "\n",
    "weights_conv3 = tf.Variable( tf.truncated_normal(shape = [1, 3, 128, 128] , stddev = 0.01))\n",
    "biases_conv3 = tf.Variable( tf.constant(0.1, shape = [128]))\n",
    "\n",
    "#output\n",
    "conv3 = tf.nn.conv2d( conv2_out, weights_conv3, strides = [1, 1, 1, 1], padding ='VALID')\n",
    "conv3_out = tf.nn.relu( conv3 + biases_conv3)\n",
    "\n",
    "print(conv3_out)"
   ]
  },
  {
   "cell_type": "code",
   "execution_count": 6,
   "metadata": {},
   "outputs": [
    {
     "name": "stdout",
     "output_type": "stream",
     "text": [
      "Tensor(\"Relu_3:0\", shape=(?, 1, 47, 128), dtype=float32)\n"
     ]
    }
   ],
   "source": [
    "#Max pooling layer\n",
    "#pool_out = tf.nn.max_pool(conv3_out, ksize = [1, 1, 2, 1], strides = [1, 1, 2, 1], padding = 'VALID')\n",
    "\n",
    "weights_conv4 = tf.Variable( tf.truncated_normal(shape = [1, 2, 128, 128], stddev = 0.01))\n",
    "biases_conv4 = tf.Variable( tf.constant(0.1, shape = [128]))\n",
    "\n",
    "conv4 = tf.nn.conv2d( conv3_out, weights_conv4, strides = [1, 2, 2, 1], padding = \"VALID\")\n",
    "conv4_out = tf.nn.relu( conv4 + biases_conv4 )\n",
    "\n",
    "pool_out = conv4_out\n",
    "print(pool_out)"
   ]
  },
  {
   "cell_type": "code",
   "execution_count": 7,
   "metadata": {},
   "outputs": [
    {
     "name": "stdout",
     "output_type": "stream",
     "text": [
      "Tensor(\"Relu_4:0\", shape=(?, 256), dtype=float32)\n"
     ]
    }
   ],
   "source": [
    "#print(max_pool.shape)\n",
    "red_dim = pool_out.shape[1] * pool_out.shape[2] * pool_out.shape[3]\n",
    "#print(red_dim,\"   \",47*128)\n",
    "\n",
    "#Dense layer - 1\n",
    "weights_dense1 = tf.Variable( tf.truncated_normal( shape = [int(red_dim), 256], stddev = 0.01 ))\n",
    "biases_dense1 = tf.Variable( tf.constant( 0.1 , shape = [256]))\n",
    "\n",
    "#Reshape of max_pool layer\n",
    "input_dense = tf.reshape( pool_out, shape = [-1, int(red_dim)])\n",
    "\n",
    "dense1 = tf.nn.relu( tf.matmul(input_dense, weights_dense1) + biases_dense1)\n",
    "\n",
    "print(dense1)"
   ]
  },
  {
   "cell_type": "code",
   "execution_count": 8,
   "metadata": {},
   "outputs": [
    {
     "name": "stdout",
     "output_type": "stream",
     "text": [
      "Tensor(\"dropout/mul:0\", shape=(?, 256), dtype=float32)\n"
     ]
    }
   ],
   "source": [
    "#Adding dropout to dense -1 \n",
    "keep_prob = tf.placeholder(dtype= tf.float32)\n",
    "dense1_dropout = tf.nn.dropout( dense1, keep_prob )\n",
    "print(dense1_dropout)"
   ]
  },
  {
   "cell_type": "code",
   "execution_count": 9,
   "metadata": {},
   "outputs": [
    {
     "name": "stdout",
     "output_type": "stream",
     "text": [
      "Tensor(\"Relu_5:0\", shape=(?, 256), dtype=float32)\n"
     ]
    }
   ],
   "source": [
    "# Dense layer - 2\n",
    "\n",
    "weights_dense2 = tf.Variable( tf.truncated_normal( shape = [256, 256], stddev = 0.01))\n",
    "biases_dense2 = tf.Variable( tf.constant( 0.1, shape =[256]))\n",
    "\n",
    "#output\n",
    "dense2 = tf.nn.relu( tf.matmul( dense1_dropout, weights_dense2 ) + biases_dense2 )\n",
    "\n",
    "print(dense2)"
   ]
  },
  {
   "cell_type": "code",
   "execution_count": 10,
   "metadata": {},
   "outputs": [
    {
     "name": "stdout",
     "output_type": "stream",
     "text": [
      "Tensor(\"Relu_5:0\", shape=(?, 256), dtype=float32)\n"
     ]
    }
   ],
   "source": [
    "#Dropout to dense - 2\n",
    "dense2_dropout = tf.nn.dropout(dense2, keep_prob)\n",
    "\n",
    "print( dense2)"
   ]
  },
  {
   "cell_type": "code",
   "execution_count": 11,
   "metadata": {},
   "outputs": [
    {
     "name": "stdout",
     "output_type": "stream",
     "text": [
      "Tensor(\"Relu_6:0\", shape=(?, 256), dtype=float32)\n"
     ]
    }
   ],
   "source": [
    "#Dense layer - 3\n",
    "\n",
    "weights_dense3 = tf.Variable( tf.truncated_normal( shape = [256, 256], stddev = 0.01))\n",
    "biases_dense3 = tf.Variable( tf.constant( 0.1 , shape = [256]))\n",
    "\n",
    "#output\n",
    "dense3 = tf.nn.relu( tf.matmul( dense2_dropout, weights_dense3) + biases_dense3)\n",
    "\n",
    "print(dense3)"
   ]
  },
  {
   "cell_type": "code",
   "execution_count": 12,
   "metadata": {},
   "outputs": [
    {
     "name": "stdout",
     "output_type": "stream",
     "text": [
      "Tensor(\"dropout_2/mul:0\", shape=(?, 256), dtype=float32)\n"
     ]
    }
   ],
   "source": [
    "# dropout to layer 3\n",
    "dense3_dropout = tf.nn.dropout( dense3, keep_prob)\n",
    "\n",
    "print(dense3_dropout)"
   ]
  },
  {
   "cell_type": "code",
   "execution_count": 13,
   "metadata": {},
   "outputs": [],
   "source": [
    "#Final output layer\n",
    "\n",
    "weights_final = tf.Variable( tf.truncated_normal( shape = [256, 2], stddev = 0.01 ))\n",
    "biases_final = tf.Variable( tf.constant( 0.1, shape =[2] ))\n"
   ]
  },
  {
   "cell_type": "code",
   "execution_count": 14,
   "metadata": {},
   "outputs": [],
   "source": [
    "output = tf.matmul( dense3_dropout, weights_final ) + biases_final\n",
    "output1 = tf.nn.softmax(output)"
   ]
  },
  {
   "cell_type": "code",
   "execution_count": 15,
   "metadata": {},
   "outputs": [],
   "source": [
    "# losses and optimizers\n",
    "\n",
    "cross_entropy = tf.reduce_mean( tf.nn.softmax_cross_entropy_with_logits(labels = y, logits = output))\n",
    "optimizer = tf.train.AdamOptimizer(1e-4)\n",
    "train_step = optimizer.minimize(cross_entropy)\n",
    "\n",
    "correct_predictions = tf.equal( tf.argmax(output, 1), tf.argmax(y, 1))\n",
    "accuracy = tf.reduce_mean( tf.cast( correct_predictions, tf.float32 ))"
   ]
  },
  {
   "cell_type": "code",
   "execution_count": 16,
   "metadata": {},
   "outputs": [
    {
     "name": "stdout",
     "output_type": "stream",
     "text": [
      "0\n",
      "(5, 39, 100)\n",
      "1\n",
      "(3, 39, 100)\n",
      "10\n",
      "(5, 39, 100)\n",
      "100\n",
      "(4, 39, 100)\n",
      "1000\n",
      "(2, 39, 100)\n",
      "1001\n",
      "(2, 39, 100)\n",
      "1002\n",
      "(3, 39, 100)\n",
      "1003\n",
      "(2, 39, 100)\n",
      "1004\n",
      "(3, 39, 100)\n",
      "1005\n",
      "(3, 39, 100)\n",
      "1006\n",
      "(3, 39, 100)\n",
      "1007\n",
      "(4, 39, 100)\n",
      "1008\n",
      "(3, 39, 100)\n",
      "1009\n",
      "(3, 39, 100)\n",
      "101\n",
      "(2, 39, 100)\n",
      "1010\n",
      "(2, 39, 100)\n",
      "1011\n",
      "(4, 39, 100)\n",
      "1012\n",
      "(4, 39, 100)\n",
      "1013\n",
      "(4, 39, 100)\n",
      "1014\n",
      "(3, 39, 100)\n",
      "1015\n",
      "(3, 39, 100)\n",
      "1016\n",
      "(3, 39, 100)\n",
      "1017\n",
      "(3, 39, 100)\n",
      "1018\n",
      "(3, 39, 100)\n",
      "1019\n",
      "(3, 39, 100)\n",
      "102\n",
      "(3, 39, 100)\n",
      "1020\n",
      "(3, 39, 100)\n",
      "1021\n",
      "(3, 39, 100)\n",
      "1022\n",
      "(2, 39, 100)\n",
      "1023\n",
      "(3, 39, 100)\n",
      "1024\n",
      "(3, 39, 100)\n",
      "1025\n",
      "(2, 39, 100)\n",
      "1026\n",
      "(2, 39, 100)\n",
      "1027\n",
      "(5, 39, 100)\n",
      "1028\n",
      "(5, 39, 100)\n",
      "1029\n",
      "(3, 39, 100)\n",
      "103\n",
      "(3, 39, 100)\n",
      "1030\n",
      "(2, 39, 100)\n",
      "1031\n",
      "(3, 39, 100)\n",
      "1032\n",
      "(3, 39, 100)\n",
      "1033\n",
      "(3, 39, 100)\n",
      "1034\n",
      "(3, 39, 100)\n",
      "1035\n",
      "(4, 39, 100)\n",
      "1036\n",
      "(3, 39, 100)\n",
      "1037\n",
      "(2, 39, 100)\n",
      "1038\n",
      "(3, 39, 100)\n",
      "1039\n",
      "(2, 39, 100)\n",
      "104\n",
      "(4, 39, 100)\n",
      "1040\n",
      "(3, 39, 100)\n",
      "1041\n",
      "(4, 39, 100)\n",
      "1042\n",
      "(3, 39, 100)\n",
      "1043\n",
      "(2, 39, 100)\n",
      "1044\n",
      "(2, 39, 100)\n",
      "1045\n",
      "(3, 39, 100)\n",
      "1046\n",
      "(4, 39, 100)\n",
      "1047\n",
      "(4, 39, 100)\n",
      "1048\n",
      "(5, 39, 100)\n",
      "1049\n",
      "(4, 39, 100)\n",
      "105\n",
      "(3, 39, 100)\n",
      "1050\n",
      "(4, 39, 100)\n",
      "1051\n",
      "(5, 39, 100)\n",
      "1052\n",
      "(5, 39, 100)\n",
      "1053\n",
      "(11, 39, 100)\n",
      "1054\n",
      "(11, 39, 100)\n",
      "1055\n",
      "(11, 39, 100)\n",
      "1056\n",
      "(5, 39, 100)\n",
      "1057\n",
      "(4, 39, 100)\n",
      "1058\n",
      "(4, 39, 100)\n",
      "1059\n",
      "(3, 39, 100)\n",
      "106\n",
      "(4, 39, 100)\n",
      "1060\n",
      "(3, 39, 100)\n",
      "1061\n",
      "(4, 39, 100)\n",
      "1062\n",
      "(3, 39, 100)\n",
      "1063\n",
      "(3, 39, 100)\n",
      "1064\n",
      "(2, 39, 100)\n",
      "1065\n",
      "(3, 39, 100)\n",
      "1066\n",
      "(5, 39, 100)\n",
      "1067\n",
      "(5, 39, 100)\n",
      "1068\n",
      "(4, 39, 100)\n",
      "1069\n",
      "(2, 39, 100)\n",
      "107\n",
      "(4, 39, 100)\n",
      "1070\n",
      "(4, 39, 100)\n",
      "1071\n",
      "(4, 39, 100)\n",
      "1072\n",
      "(2, 39, 100)\n",
      "1073\n",
      "(1, 39, 100)\n",
      "1074\n",
      "(2, 39, 100)\n",
      "1075\n",
      "(4, 39, 100)\n",
      "1076\n",
      "(4, 39, 100)\n",
      "1077\n",
      "(4, 39, 100)\n",
      "1078\n",
      "(3, 39, 100)\n",
      "1079\n",
      "(3, 39, 100)\n",
      "108\n",
      "(3, 39, 100)\n",
      "1080\n",
      "(4, 39, 100)\n",
      "1081\n",
      "(4, 39, 100)\n",
      "1082\n",
      "(4, 39, 100)\n",
      "1083\n",
      "(3, 39, 100)\n",
      "1084\n",
      "(4, 39, 100)\n",
      "1085\n",
      "(5, 39, 100)\n",
      "1086\n",
      "(4, 39, 100)\n",
      "1087\n",
      "(3, 39, 100)\n",
      "1088\n",
      "(4, 39, 100)\n",
      "1089\n",
      "(2, 39, 100)\n",
      "109\n",
      "(4, 39, 100)\n",
      "1090\n",
      "(2, 39, 100)\n",
      "1091\n",
      "(3, 39, 100)\n",
      "1092\n",
      "(3, 39, 100)\n",
      "1093\n",
      "(3, 39, 100)\n",
      "1094\n",
      "(2, 39, 100)\n",
      "1095\n",
      "(2, 39, 100)\n",
      "1096\n",
      "(2, 39, 100)\n",
      "1097\n",
      "(3, 39, 100)\n",
      "1098\n",
      "(2, 39, 100)\n",
      "1099\n",
      "(3, 39, 100)\n",
      "11\n",
      "(4, 39, 100)\n",
      "110\n",
      "(1, 39, 100)\n",
      "1100\n",
      "(3, 39, 100)\n",
      "1101\n",
      "(3, 39, 100)\n",
      "1102\n",
      "(4, 39, 100)\n",
      "1103\n",
      "(3, 39, 100)\n",
      "1104\n",
      "(3, 39, 100)\n",
      "1105\n",
      "(2, 39, 100)\n",
      "1106\n",
      "(4, 39, 100)\n",
      "1107\n",