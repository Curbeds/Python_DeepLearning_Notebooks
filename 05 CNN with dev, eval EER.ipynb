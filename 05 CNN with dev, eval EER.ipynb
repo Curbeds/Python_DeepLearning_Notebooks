
{
 "cells": [
  {
   "cell_type": "code",
   "execution_count": 1,
   "metadata": {},
   "outputs": [],
   "source": [
    "import tensorflow as tf\n",
    "import numpy as np\n",
    "import os\n"
   ]
  },
  {
   "cell_type": "code",
   "execution_count": 2,
   "metadata": {},
   "outputs": [],
   "source": [
    "# IN and Out variables for data \n",
    "dimension = 60\n",
    "fps = 11 #frames per second\n",
    "\n",
    "x = tf.placeholder(tf.float32, [None, dimension, fps])  #Inputs\n",
    "y = tf.placeholder(tf.float32, [None, 2])   #Labels"
   ]
  },
  {
   "cell_type": "code",
   "execution_count": 3,
   "metadata": {},
   "outputs": [
    {
     "name": "stdout",
     "output_type": "stream",
     "text": [
      "Tensor(\"Reshape:0\", shape=(?, 39, 100, 1), dtype=float32)\n",
      "Tensor(\"Relu:0\", shape=(?, 1, 98, 128), dtype=float32)\n"
     ]
    }
   ],
   "source": [
    "#convolution Layer - 1 \n",
    "# [ filter_height, filter_width, in_channels, out_channels ]\n",
    "weights_conv1 = tf.Variable( tf.truncated_normal( shape = [dimension, 3, 1, 128], stddev =0.01, dtype = tf.float32), dtype = tf.float32) \n",
    "biases_conv1 = tf.Variable( tf.constant(0.1, shape = [128]))\n",
    "\n",
    "#reshape of input # -1 = dynamically caluclates the batch size , in_height, in_width, in_channels\n",
    "input_x = tf.reshape(x, [-1, dimension, fps, 1])\n",
    "#input_x = tf.to_double(input_x)\n",
    "print(input_x)\n",
    "\n",
    "#output\n",
    "conv1 = tf.nn.conv2d( input_x, weights_conv1, strides=[1, 1, 1, 1], padding='VALID') \n",
    "conv1_out = tf.nn.relu( conv1 + biases_conv1 )\n",
    "\n",
    "print(conv1_out)"
   ]
  },
  {
   "cell_type": "code",
   "execution_count": 4,
   "metadata": {},
   "outputs": [
    {
     "name": "stdout",
     "output_type": "stream",
     "text": [
      "Tensor(\"Relu_1:0\", shape=(?, 1, 96, 128), dtype=float32)\n"
     ]
    }
   ],
   "source": [
    "#convolution layer - 2\n",
    "\n",
    "weights_conv2 = tf.Variable( tf.truncated_normal( shape = [1, 3, 128, 128], stddev = 0.01 ))\n",
    "biases_conv2 = tf.Variable( tf.constant(0.1, shape = [128] ))\n",
    "\n",
    "#output\n",
    "conv2 = tf.nn.conv2d( conv1_out, weights_conv2, strides = [1, 1, 1, 1], padding = 'VALID')\n",
    "conv2_out = tf.nn.relu( conv2 + biases_conv2)\n",
    "\n",
    "print(conv2_out)"
   ]
  },
  {
   "cell_type": "code",
   "execution_count": 5,
   "metadata": {},
   "outputs": [
    {
     "name": "stdout",
     "output_type": "stream",
     "text": [
      "Tensor(\"Relu_2:0\", shape=(?, 1, 94, 128), dtype=float32)\n"
     ]
    }
   ],
   "source": [
    "#convolution layer - 3\n",
    "\n",
    "weights_conv3 = tf.Variable( tf.truncated_normal(shape = [1, 3, 128, 128] , stddev = 0.01))\n",
    "biases_conv3 = tf.Variable( tf.constant(0.1, shape = [128]))\n",
    "\n",
    "#output\n",
    "conv3 = tf.nn.conv2d( conv2_out, weights_conv3, strides = [1, 1, 1, 1], padding ='VALID')\n",
    "conv3_out = tf.nn.relu( conv3 + biases_conv3)\n",
    "\n",
    "print(conv3_out)"
   ]
  },
  {
   "cell_type": "code",
   "execution_count": 6,
   "metadata": {},
   "outputs": [
    {
     "name": "stdout",
     "output_type": "stream",
     "text": [
      "Tensor(\"Relu_3:0\", shape=(?, 1, 47, 128), dtype=float32)\n"
     ]
    }
   ],
   "source": [
    "#Max pooling layer\n",
    "#pool_out = tf.nn.max_pool(conv3_out, ksize = [1, 1, 2, 1], strides = [1, 1, 2, 1], padding = 'VALID')\n",
    "\n",
    "weights_conv4 = tf.Variable( tf.truncated_normal(shape = [1, 2, 128, 128], stddev = 0.01))\n",
    "biases_conv4 = tf.Variable( tf.constant(0.1, shape = [128]))\n",
    "\n",
    "conv4 = tf.nn.conv2d( conv3_out, weights_conv4, strides = [1, 2, 2, 1], padding = \"VALID\")\n",
    "conv4_out = tf.nn.relu( conv4 + biases_conv4 )\n",
    "\n",
    "pool_out = conv4_out\n",
    "print(pool_out)"
   ]
  },
  {
   "cell_type": "code",
   "execution_count": 7,
   "metadata": {},
   "outputs": [
    {
     "name": "stdout",
     "output_type": "stream",
     "text": [
      "Tensor(\"Relu_4:0\", shape=(?, 256), dtype=float32)\n"
     ]
    }
   ],
   "source": [
    "#print(max_pool.shape)\n",
    "red_dim = pool_out.shape[1] * pool_out.shape[2] * pool_out.shape[3]\n",
    "#print(red_dim,\"   \",47*128)\n",
    "\n",
    "#Dense layer - 1\n",
    "weights_dense1 = tf.Variable( tf.truncated_normal( shape = [int(red_dim), 256], stddev = 0.01 ))\n",
    "biases_dense1 = tf.Variable( tf.constant( 0.1 , shape = [256]))\n",
    "\n",
    "#Reshape of max_pool layer\n",
    "input_dense = tf.reshape( pool_out, shape = [-1, int(red_dim)])\n",
    "\n",
    "dense1 = tf.nn.relu( tf.matmul(input_dense, weights_dense1) + biases_dense1)\n",
    "\n",
    "print(dense1)"
   ]
  },
  {
   "cell_type": "code",
   "execution_count": 8,
   "metadata": {},
   "outputs": [
    {
     "name": "stdout",
     "output_type": "stream",
     "text": [
      "Tensor(\"dropout/mul:0\", shape=(?, 256), dtype=float32)\n"
     ]
    }
   ],
   "source": [
    "#Adding dropout to dense -1 \n",
    "keep_prob = tf.placeholder(dtype= tf.float32)\n",
    "dense1_dropout = tf.nn.dropout( dense1, keep_prob )\n",
    "print(dense1_dropout)"
   ]
  },
  {
   "cell_type": "code",
   "execution_count": 9,
   "metadata": {},
   "outputs": [
    {
     "name": "stdout",
     "output_type": "stream",
     "text": [
      "Tensor(\"Relu_5:0\", shape=(?, 256), dtype=float32)\n"
     ]
    }
   ],
   "source": [
    "# Dense layer - 2\n",
    "\n",
    "weights_dense2 = tf.Variable( tf.truncated_normal( shape = [256, 256], stddev = 0.01))\n",
    "biases_dense2 = tf.Variable( tf.constant( 0.1, shape =[256]))\n",
    "\n",
    "#output\n",
    "dense2 = tf.nn.relu( tf.matmul( dense1_dropout, weights_dense2 ) + biases_dense2 )\n",
    "\n",
    "print(dense2)"
   ]
  },
  {
   "cell_type": "code",
   "execution_count": 10,
   "metadata": {},
   "outputs": [
    {
     "name": "stdout",
     "output_type": "stream",
     "text": [
      "Tensor(\"Relu_5:0\", shape=(?, 256), dtype=float32)\n"
     ]
    }
   ],
   "source": [
    "#Dropout to dense - 2\n",
    "dense2_dropout = tf.nn.dropout(dense2, keep_prob)\n",
    "\n",
    "print( dense2)"
   ]
  },
  {
   "cell_type": "code",
   "execution_count": 11,
   "metadata": {},
   "outputs": [
    {
     "name": "stdout",
     "output_type": "stream",
     "text": [
      "Tensor(\"Relu_6:0\", shape=(?, 256), dtype=float32)\n"
     ]
    }
   ],
   "source": [
    "#Dense layer - 3\n",
    "\n",
    "weights_dense3 = tf.Variable( tf.truncated_normal( shape = [256, 256], stddev = 0.01))\n",
    "biases_dense3 = tf.Variable( tf.constant( 0.1 , shape = [256]))\n",
    "\n",
    "#output\n",
    "dense3 = tf.nn.relu( tf.matmul( dense2_dropout, weights_dense3) + biases_dense3)\n",
    "\n",
    "print(dense3)"
   ]
  },
  {
   "cell_type": "code",
   "execution_count": 12,
   "metadata": {},
   "outputs": [
    {
     "name": "stdout",
     "output_type": "stream",
     "text": [
      "Tensor(\"dropout_2/mul:0\", shape=(?, 256), dtype=float32)\n"
     ]
    }
   ],
   "source": [
    "# dropout to layer 3\n",
    "dense3_dropout = tf.nn.dropout( dense3, keep_prob)\n",
    "\n",
    "print(dense3_dropout)"
   ]
  },
  {
   "cell_type": "code",
   "execution_count": 13,
   "metadata": {},
   "outputs": [],